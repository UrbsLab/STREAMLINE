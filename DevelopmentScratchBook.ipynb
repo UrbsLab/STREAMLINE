{
 "cells": [
  {
   "cell_type": "code",
   "execution_count": 92,
   "id": "bc0608f9",
   "metadata": {},
   "outputs": [],
   "source": [
    "import numpy as np\n",
    "import pandas as pd"
   ]
  },
  {
   "cell_type": "code",
   "execution_count": 93,
   "id": "8c79aa7d",
   "metadata": {},
   "outputs": [],
   "source": [
    "experiment_path = 'tests/demo'\n",
    "name = 'hcc-data_example'"
   ]
  },
  {
   "cell_type": "code",
   "execution_count": 94,
   "id": "5a25f639",
   "metadata": {},
   "outputs": [],
   "source": [
    "df_corr = pd.read_csv(experiment_path + '/' + name + '/exploratory/' + 'initial/'+ 'FeatureCorrelations.csv', index_col=0)"
   ]
  },
  {
   "cell_type": "code",
   "execution_count": 95,
   "id": "f485cce2",
   "metadata": {},
   "outputs": [],
   "source": [
    "# calculate the correlation matrix and reshape\n",
    "df_corr = df_corr.stack().reset_index()\n",
    "\n",
    "# rename the columns\n",
    "df_corr.columns = ['Feature_1', 'Feature_2', 'Correlation']\n",
    "\n",
    "# create a mask to identify rows with duplicate features as mentioned above\n",
    "mask_dups = (df_corr[['Feature_1', 'Feature_2']].apply(frozenset, axis=1).duplicated()) | (df_corr['Feature_1']==df_corr['Feature_2']) \n",
    "\n",
    "# apply the mask to clean the correlation dataframe\n",
    "df_corr = df_corr[~mask_dups]\n",
    "\n",
    "df_corr = df_corr.sort_values(by='Correlation', key=abs)"
   ]
  },
  {
   "cell_type": "code",
   "execution_count": 96,
   "id": "f4080498",
   "metadata": {},
   "outputs": [
    {
     "data": {
      "text/plain": [
       "['Alcohol', 'Alanine transaminase (U/L)', 'Iron', 'Total Bilirubin(mg/dL)']"
      ]
     },
     "execution_count": 96,
     "metadata": {},
     "output_type": "execute_result"
    }
   ],
   "source": [
    "list(df_corr[abs(df_corr['Correlation']) > 0.7]['Feature_1'])"
   ]
  },
  {
   "cell_type": "code",
   "execution_count": 29,
   "id": "1d5ea0b6",
   "metadata": {},
   "outputs": [
    {
     "data": {
      "text/html": [
       "<div>\n",
       "<style scoped>\n",
       "    .dataframe tbody tr th:only-of-type {\n",
       "        vertical-align: middle;\n",
       "    }\n",
       "\n",
       "    .dataframe tbody tr th {\n",
       "        vertical-align: top;\n",
       "    }\n",
       "\n",
       "    .dataframe thead th {\n",
       "        text-align: right;\n",
       "    }\n",
       "</style>\n",
       "<table border=\"1\" class=\"dataframe\">\n",
       "  <thead>\n",
       "    <tr style=\"text-align: right;\">\n",
       "      <th></th>\n",
       "      <th>Feature_1</th>\n",
       "      <th>Feature_2</th>\n",
       "      <th>Correlation</th>\n",
       "    </tr>\n",
       "  </thead>\n",
       "  <tbody>\n",
       "    <tr>\n",
       "      <th>122</th>\n",
       "      <td>Alcohol</td>\n",
       "      <td>Grams of Alcohol per day</td>\n",
       "      <td>0.712681</td>\n",
       "    </tr>\n",
       "    <tr>\n",
       "      <th>1843</th>\n",
       "      <td>Alanine transaminase (U/L)</td>\n",
       "      <td>Aspartate transaminase (U/L)</td>\n",
       "      <td>0.727780</td>\n",
       "    </tr>\n",
       "    <tr>\n",
       "      <th>2291</th>\n",
       "      <td>Iron</td>\n",
       "      <td>Oxygen Saturation (%)</td>\n",
       "      <td>0.782957</td>\n",
       "    </tr>\n",
       "    <tr>\n",
       "      <th>1801</th>\n",
       "      <td>Total Bilirubin(mg/dL)</td>\n",
       "      <td>Direct Bilirubin (mg/dL)</td>\n",
       "      <td>0.978124</td>\n",
       "    </tr>\n",
       "  </tbody>\n",
       "</table>\n",
       "</div>"
      ],
      "text/plain": [
       "                       Feature_1                     Feature_2  Correlation\n",
       "122                      Alcohol      Grams of Alcohol per day     0.712681\n",
       "1843  Alanine transaminase (U/L)  Aspartate transaminase (U/L)     0.727780\n",
       "2291                        Iron         Oxygen Saturation (%)     0.782957\n",
       "1801      Total Bilirubin(mg/dL)      Direct Bilirubin (mg/dL)     0.978124"
      ]
     },
     "execution_count": 29,
     "metadata": {},
     "output_type": "execute_result"
    }
   ],
   "source": [
    "df_corr[abs(df_corr['Correlation'])> 0.7]"
   ]
  },
  {
   "cell_type": "code",
   "execution_count": 86,
   "id": "c0004cb7",
   "metadata": {},
   "outputs": [],
   "source": [
    "summary = [['instances', 0],\n",
    "                   ['features', 1],\n",
    "                   ['categorical_features', 2],\n",
    "                   ['quantitative_features', 3],\n",
    "                   ['missing_values', 4],\n",
    "                   ['missing_percent', 5]]\n",
    "\n",
    "summary_df = pd.DataFrame(summary, columns=['Variable', 'Count'])"
   ]
  },
  {
   "cell_type": "code",
   "execution_count": 87,
   "id": "a019aa0b",
   "metadata": {},
   "outputs": [],
   "source": [
    "df = pd.DataFrame(columns=['Instances', 'Total Features', 'Categorical Features', \n",
    "                      'Quantitative Features', 'Missing Values', 'Missing Percent', 'Class 0', 'Class 1'])"
   ]
  },
  {
   "cell_type": "code",
   "execution_count": 88,
   "id": "4dcd33b1",
   "metadata": {},
   "outputs": [
    {
     "data": {
      "text/plain": [
       "[0, 1, 2, 3, 4, 5, 6]"
      ]
     },
     "execution_count": 88,
     "metadata": {},
     "output_type": "execute_result"
    }
   ],
   "source": [
    "list(summary_df['Count']) + [6]"
   ]
  },
  {
   "cell_type": "code",
   "execution_count": 90,
   "id": "2bc8c6f6",
   "metadata": {},
   "outputs": [],
   "source": []
  },
  {
   "cell_type": "code",
   "execution_count": 91,
   "id": "f48206e9",
   "metadata": {},
   "outputs": [
    {
     "data": {
      "text/html": [
       "<div>\n",
       "<style scoped>\n",
       "    .dataframe tbody tr th:only-of-type {\n",
       "        vertical-align: middle;\n",
       "    }\n",
       "\n",
       "    .dataframe tbody tr th {\n",
       "        vertical-align: top;\n",
       "    }\n",
       "\n",
       "    .dataframe thead th {\n",
       "        text-align: right;\n",
       "    }\n",
       "</style>\n",
       "<table border=\"1\" class=\"dataframe\">\n",
       "  <thead>\n",
       "    <tr style=\"text-align: right;\">\n",
       "      <th></th>\n",
       "      <th>Instances</th>\n",
       "      <th>Total Features</th>\n",
       "      <th>Categorical Features</th>\n",
       "      <th>Quantitative Features</th>\n",
       "      <th>Missing Values</th>\n",
       "      <th>Missing Percent</th>\n",
       "      <th>Class 0</th>\n",
       "      <th>Class 1</th>\n",
       "    </tr>\n",
       "  </thead>\n",
       "  <tbody>\n",
       "    <tr>\n",
       "      <th>Orignal</th>\n",
       "      <td>0</td>\n",
       "      <td>1</td>\n",
       "      <td>2</td>\n",
       "      <td>3</td>\n",
       "      <td>4</td>\n",
       "      <td>5</td>\n",
       "      <td>6</td>\n",
       "      <td>7</td>\n",
       "    </tr>\n",
       "  </tbody>\n",
       "</table>\n",
       "</div>"
      ],
      "text/plain": [
       "         Instances  Total Features  Categorical Features  \\\n",
       "Orignal          0               1                     2   \n",
       "\n",
       "         Quantitative Features  Missing Values  Missing Percent  Class 0  \\\n",
       "Orignal                      3               4                5        6   \n",
       "\n",
       "         Class 1  \n",
       "Orignal        7  "
      ]
     },
     "execution_count": 91,
     "metadata": {},
     "output_type": "execute_result"
    }
   ],
   "source": [
    "df"
   ]
  },
  {
   "cell_type": "code",
   "execution_count": null,
   "id": "28106b7f",
   "metadata": {},
   "outputs": [],
   "source": []
  }
 ],
 "metadata": {
  "kernelspec": {
   "display_name": "Python [conda env:streamline]",
   "language": "python",
   "name": "conda-env-streamline-py"
  },
  "language_info": {
   "codemirror_mode": {
    "name": "ipython",
    "version": 3
   },
   "file_extension": ".py",
   "mimetype": "text/x-python",
   "name": "python",
   "nbconvert_exporter": "python",
   "pygments_lexer": "ipython3",
   "version": "3.8.16"
  }
 },
 "nbformat": 4,
 "nbformat_minor": 5
}
