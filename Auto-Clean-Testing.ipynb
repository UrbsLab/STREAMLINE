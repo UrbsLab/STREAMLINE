{
 "cells": [
  {
   "attachments": {},
   "cell_type": "markdown",
   "metadata": {},
   "source": [
    "Auto-Clean-Test"
   ]
  },
  {
   "cell_type": "code",
   "execution_count": 1,
   "metadata": {},
   "outputs": [
    {
     "name": "stderr",
     "output_type": "stream",
     "text": [
      "/Users/gabrielketron/AutoTest/AutoTestEnv/lib/python3.10/site-packages/tqdm/auto.py:21: TqdmWarning: IProgress not found. Please update jupyter and ipywidgets. See https://ipywidgets.readthedocs.io/en/stable/user_install.html\n",
      "  from .autonotebook import tqdm as notebook_tqdm\n"
     ]
    }
   ],
   "source": [
    "import logging\n",
    "import os\n",
    "import shutil\n",
    "import dill as pickle\n",
    "import pandas as pd\n",
    "import matplotlib.pyplot as plt\n",
    "from sklearn.model_selection import train_test_split\n",
    "from streamline.runners.auto_runner import AutoRunner\n",
    "from streamline.runners.clean_optimize_runner import OptimizeClean"
   ]
  },
  {
   "cell_type": "code",
   "execution_count": 2,
   "metadata": {},
   "outputs": [],
   "source": [
    "with open(\"./data/DigenData/all_new_test_sets.pkl\",'rb') as f:\n",
    "    digennoise = pickle.load(f)\n",
    "\n",
    "#print(digennoise.keys())\n",
    "\n",
    "with open(\"./data/DigenData/all_new_test_sets_no_noise.pkl\",'rb') as f:\n",
    "    digen = pickle.load(f)\n",
    "\n",
    "#print(digen.keys())\n",
    "#print(digen['digen8_4426'])\n",
    "#Test= pd.DataFrame(digennoise['digen8_4426']['X'])\n",
    "#yval = pd.DataFrame(digennoise['digen8_4426']['y'])\n",
    "#current_noise = digennoise['digen8_4426']['noise']\n",
    "#yval.columns = ['y']\n",
    "#yval.rename(columns = {'0':'y'}, inplace = True)\n",
    "#out = pd.concat([Test, yval], axis=1)\n",
    "#out.index.name = 'InstanceId'\n",
    "#out.to_csv('./data/DigenStudy/digen8_4426.csv')\n",
    "#print(out)"
   ]
  },
  {
   "cell_type": "code",
   "execution_count": 3,
   "metadata": {},
   "outputs": [
    {
     "name": "stderr",
     "output_type": "stream",
     "text": [
      "[I 2023-07-05 11:38:41,076] A new study created in memory with name: no-name-94ffd348-9bc4-432c-af40-222b258e3cf1\n",
      "Best trial: 0. Best value: 0.977162:  10%|█         | 1/10 [02:52<25:54, 172.74s/it]"
     ]
    },
    {
     "name": "stdout",
     "output_type": "stream",
     "text": [
      "digen8_4426_train digen8_4426_train\n"
     ]
    },
    {
     "name": "stderr",
     "output_type": "stream",
     "text": [
      "Best trial: 1. Best value: 0.98698:  20%|██        | 2/10 [07:30<31:15, 234.41s/it] "
     ]
    },
    {
     "name": "stdout",
     "output_type": "stream",
     "text": [
      "digen8_4426_train digen8_4426_train\n"
     ]
    },
    {
     "name": "stderr",
     "output_type": "stream",
     "text": [
      "Best trial: 1. Best value: 0.98698:  30%|███       | 3/10 [09:25<20:59, 179.93s/it]"
     ]
    },
    {
     "name": "stdout",
     "output_type": "stream",
     "text": [
      "digen8_4426_train digen8_4426_train\n"
     ]
    },
    {
     "name": "stderr",
     "output_type": "stream",
     "text": [
      "Best trial: 1. Best value: 0.98698:  40%|████      | 4/10 [14:20<22:33, 225.57s/it]"
     ]
    },
    {
     "name": "stdout",
     "output_type": "stream",
     "text": [
      "digen8_4426_train digen8_4426_train\n"
     ]
    },
    {
     "name": "stderr",
     "output_type": "stream",
     "text": [
      "Best trial: 1. Best value: 0.98698:  50%|█████     | 5/10 [16:03<15:06, 181.28s/it]"
     ]
    },
    {
     "name": "stdout",
     "output_type": "stream",
     "text": [
      "digen8_4426_train digen8_4426_train\n"
     ]
    },
    {
     "name": "stderr",
     "output_type": "stream",
     "text": [
      "Best trial: 1. Best value: 0.98698:  60%|██████    | 6/10 [20:47<14:24, 216.19s/it]"
     ]
    },
    {
     "name": "stdout",
     "output_type": "stream",
     "text": [
      "digen8_4426_train digen8_4426_train\n"
     ]
    },
    {
     "name": "stderr",
     "output_type": "stream",
     "text": [
      "Best trial: 1. Best value: 0.98698:  70%|███████   | 7/10 [21:53<08:20, 166.88s/it]"
     ]
    },
    {
     "name": "stdout",
     "output_type": "stream",
     "text": [
      "digen8_4426_train digen8_4426_train\n"
     ]
    },
    {
     "name": "stderr",
     "output_type": "stream",
     "text": [
      "Best trial: 1. Best value: 0.98698:  80%|████████  | 8/10 [22:51<04:24, 132.47s/it]"
     ]
    },
    {
     "name": "stdout",
     "output_type": "stream",
     "text": [
      "digen8_4426_train digen8_4426_train\n"
     ]
    },
    {
     "name": "stderr",
     "output_type": "stream",
     "text": [
      "Best trial: 1. Best value: 0.98698:  90%|█████████ | 9/10 [29:06<03:28, 208.11s/it]"
     ]
    },
    {
     "name": "stdout",
     "output_type": "stream",
     "text": [
      "digen8_4426_train digen8_4426_train\n"
     ]
    },
    {
     "name": "stderr",
     "output_type": "stream",
     "text": [
      "Best trial: 1. Best value: 0.98698: 100%|██████████| 10/10 [31:23<00:00, 188.31s/it]"
     ]
    },
    {
     "name": "stdout",
     "output_type": "stream",
     "text": [
      "digen8_4426_train digen8_4426_train\n"
     ]
    },
    {
     "name": "stderr",
     "output_type": "stream",
     "text": [
      "\n"
     ]
    },
    {
     "data": {
      "text/plain": [
       "<Figure size 600x600 with 0 Axes>"
      ]
     },
     "metadata": {},
     "output_type": "display_data"
    }
   ],
   "source": [
    "\n",
    "data = pd.DataFrame(digennoise['digen8_4426']['X'])\n",
    "yval = pd.DataFrame(digennoise['digen8_4426']['y'])\n",
    "current_noise = digennoise['digen8_4426']['noise']\n",
    "yval.columns = ['y']\n",
    "yval.rename(columns = {'0':'y'}, inplace = True)\n",
    "out = pd.concat([data, yval], axis=1)\n",
    "out.index.name = 'InstanceId'\n",
    "digennoise['digen8_4426'] = current_noise\n",
    "if current_noise == 0.0: \n",
    "    outstring = './data/DigenStudy/No_Noise/' + 'digen8_4426' + '.csv'\n",
    "    #tempstring = './data/testfolder/' + 'digen8_4426' + '.csv'\n",
    "    out.to_csv(outstring)\n",
    "    #out.to_csv(tempstring)\n",
    "else:\n",
    "    outstring = './data/DigenStudy/Noisy/' + 'digen8_4426' + '.csv'\n",
    "    #tempstring = './data/testfolder/' + 'digen8_4426' + '.csv'\n",
    "    out.to_csv(outstring)\n",
    "    #out.to_csv(tempstring)\n",
    "\n",
    "X_train, X_test,y_train, y_test = train_test_split(data, yval,test_size=0.08, shuffle=True)\n",
    "\n",
    "train_set = pd.concat([X_train, y_train], axis =1)\n",
    "train_set.index.name = 'InstanceId'\n",
    "tempstring = './data/testfolder/' + 'digen8_4426' +'_train.csv'\n",
    "train_set.to_csv(tempstring)\n",
    "cleanrun = OptimizeClean(dataset_name=['digen8_4426_train'], n_trials=1, data_path='./data/testfolder', class_label='y', instance_label=\"InstanceId\")\n",
    "cleanrun.run(run_para=True)\n",
    "optimal = cleanrun.param\n",
    "current_auc = cleanrun.goal\n",
    "os.remove(tempstring)\n"
   ]
  },
  {
   "attachments": {},
   "cell_type": "markdown",
   "metadata": {},
   "source": [
    "categorical cut = 5\n",
    "sig cutoff = 0.0198\n",
    "feature missing = 0.7\n",
    "cleaning miss = 0.6\n",
    "correlation removal = 0.9\n",
    "partition method: random\n",
    "n_splits = 9\n",
    "\n",
    "424 min runtime for 1 dataset with 100 trials. \n",
    "= 7 hours."
   ]
  },
  {
   "cell_type": "code",
   "execution_count": 4,
   "metadata": {},
   "outputs": [
    {
     "name": "stdout",
     "output_type": "stream",
     "text": [
      "{'categorical_cutoff': 9, 'sig_cutoff': 0.007051812409598334, 'featureeng_missingness': 0.8, 'cleaning_missingness': 0.15000000000000002, 'correlation_removal_threshold': 0.95, 'exploration_list': ['Describe', 'Univariate Analysis', 'Feature Correlation'], 'partition_method': 'Random', 'n_splits': 4}\n"
     ]
    }
   ],
   "source": [
    "print(optimal)"
   ]
  },
  {
   "cell_type": "code",
   "execution_count": 5,
   "metadata": {},
   "outputs": [
    {
     "name": "stderr",
     "output_type": "stream",
     "text": [
      "WARNING:root:User did not specify categorical vs quantitative features; feature types will be automatically assigned based on categorical_cutoff parameter\n",
      "100%|██████████| 16/16 [00:00<00:00, 17349.76it/s]\n"
     ]
    },
    {
     "name": "stdout",
     "output_type": "stream",
     "text": [
      "metadata.pickle digen8_4426_test\n",
      "digen8_4426_test digen8_4426_test\n",
      "0.3584103603840939\n"
     ]
    }
   ],
   "source": [
    "tempstring = './data/testfolder/' + 'digen8_4426' +'_test.csv'\n",
    "test_set = pd.concat([X_test, y_test], axis =1)\n",
    "test_set.index.name = 'InstanceId'\n",
    "test_set.to_csv(tempstring)\n",
    "\n",
    "most_recent_run = AutoRunner(**optimal, dataset_names=['digen8_4426_test'],data_path='./data/testfolder',\n",
    "                                    gen_report=False, clean=False, class_label='y', \n",
    "                                    instance_label='InstanceId', ml_algorithms=[\"NB\", \"LR\", \"DT\", \"EN\", \"XGB\", \"LGB\", \"CGB\", \"SVM\",\"GB\", \"RF\"], \n",
    "                                    exclude=[\"ANN\",\"KNN\",\"GP\", 'eLCS', 'XCS', \"ExSTraCS\"]) # \"XGB\", \"LGB\", \"CGB\", \"SVM\",\"GB\", \"RF\"\n",
    "output_csv = most_recent_run.run(run_para=True)\n",
    "performance = pd.read_csv(output_csv)\n",
    "summary_chart = performance\n",
    "goal = performance[\"ROC AUC\"].max()\n",
    "best_model = performance.loc[performance[\"ROC AUC\"].idxmax()][0]\n",
    "png_out = output_csv.removesuffix('Summary_performance_mean.csv')\n",
    "png_out = png_out + 'Summary_ROC.png'\n",
    "final_model_comparison = plt.show(png_out)\n",
    "print(current_auc-goal)\n",
    "os.remove(tempstring)"
   ]
  },
  {
   "cell_type": "code",
   "execution_count": 6,
   "metadata": {},
   "outputs": [
    {
     "name": "stdout",
     "output_type": "stream",
     "text": [
      "{'categorical_cutoff': 9, 'sig_cutoff': 0.007051812409598334, 'featureeng_missingness': 0.8, 'cleaning_missingness': 0.15000000000000002, 'correlation_removal_threshold': 0.95, 'exploration_list': ['Describe', 'Univariate Analysis', 'Feature Correlation'], 'partition_method': 'Random', 'n_splits': 4}\n"
     ]
    }
   ],
   "source": [
    "print(cleanrun.param)"
   ]
  },
  {
   "attachments": {},
   "cell_type": "markdown",
   "metadata": {},
   "source": [
    "trials: 1 difference: 0.34 param: {'categorical_cutoff': 10, 'sig_cutoff': 0.02896993117424986, 'featureeng_missingness': 0.3, 'cleaning_missingness': 0.8, 'correlation_removal_threshold': 0.9, 'exploration_list': ['Describe', 'Univariate Analysis', 'Feature Correlation'], 'partition_method': 'Random', 'n_splits': 9}\n",
    "\n",
    "trials: 10 difference: 0.35 param: {'categorical_cutoff': 9, 'sig_cutoff': 0.007051812409598334, 'featureeng_missingness': 0.8, 'cleaning_missingness': 0.15000000000000002, 'correlation_removal_threshold': 0.95, 'exploration_list': ['Describe', 'Univariate Analysis', 'Feature Correlation'], 'partition_method': 'Random', 'n_splits': 4}"
   ]
  },
  {
   "cell_type": "code",
   "execution_count": 7,
   "metadata": {},
   "outputs": [],
   "source": [
    "# autotest = AutoRunner(dataset_names=['digen8_4426'], clean=False, class_label='y', instance_label='InstanceId')"
   ]
  },
  {
   "cell_type": "code",
   "execution_count": 8,
   "metadata": {},
   "outputs": [],
   "source": [
    "#output_csv = autotest.run()"
   ]
  },
  {
   "cell_type": "code",
   "execution_count": 9,
   "metadata": {},
   "outputs": [],
   "source": [
    "#print(output_csv)\n",
    "\n",
    "#performance = pd.read_csv(output_csv)\n",
    "#print(performance)\n",
    "#print(performance['ROC AUC'].max())\n",
    "#print(performance.loc[performance['ROC AUC'].idxmax()][0])"
   ]
  }
 ],
 "metadata": {
  "kernelspec": {
   "display_name": "AutoTestEnv",
   "language": "python",
   "name": "python3"
  },
  "language_info": {
   "codemirror_mode": {
    "name": "ipython",
    "version": 3
   },
   "file_extension": ".py",
   "mimetype": "text/x-python",
   "name": "python",
   "nbconvert_exporter": "python",
   "pygments_lexer": "ipython3",
   "version": "3.10.5"
  },
  "orig_nbformat": 4
 },
 "nbformat": 4,
 "nbformat_minor": 2
}
