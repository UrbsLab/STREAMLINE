{
 "cells": [
  {
   "attachments": {},
   "cell_type": "markdown",
   "metadata": {},
   "source": [
    "Auto-Clean-Test"
   ]
  },
  {
   "cell_type": "code",
   "execution_count": 5,
   "metadata": {},
   "outputs": [],
   "source": [
    "import logging\n",
    "import os\n",
    "import shutil\n",
    "import dill as pickle\n",
    "import pandas as pd\n",
    "\n",
    "from streamline.runners.auto_runner import AutoRunner"
   ]
  },
  {
   "cell_type": "code",
   "execution_count": 6,
   "metadata": {},
   "outputs": [
    {
     "name": "stdout",
     "output_type": "stream",
     "text": [
      "                  X0        X1        X2        X3        X4        X5  \\\n",
      "InstanceId                                                               \n",
      "0           1.764052  0.400157  0.978738  2.240893  1.867558 -0.977278   \n",
      "1           0.144044  1.454274  0.761038  0.121675  0.443863  0.333674   \n",
      "2          -2.552990  0.653619  0.864436 -0.742165  2.269755 -1.454366   \n",
      "3           0.154947  0.378163 -0.887786 -1.980796 -0.347912  0.156349   \n",
      "4          -1.048553 -1.420018 -1.706270  1.950775 -0.509652 -0.438074   \n",
      "...              ...       ...       ...       ...       ...       ...   \n",
      "9995       -0.030453  1.082681 -0.530580  0.602367 -2.138291 -0.056632   \n",
      "9996        2.520830 -0.124884  0.018068 -0.998623 -1.262734 -0.565107   \n",
      "9997       -0.545705  1.696766 -0.508186  0.003621 -1.018515  0.251562   \n",
      "9998       -0.367787 -0.568358 -0.721248  0.198280 -0.217422  0.914757   \n",
      "9999        0.428571 -0.164999  0.864963 -0.647662  0.720058 -0.337715   \n",
      "\n",
      "                  X6        X7        X8        X9  y  \n",
      "InstanceId                                             \n",
      "0           0.950088 -0.151357 -0.103219  0.410599  0  \n",
      "1           1.494079 -0.205158  0.313068 -0.854096  1  \n",
      "2           0.045759 -0.187184  1.532779  1.469359  1  \n",
      "3           1.230291  1.202380 -0.387327 -0.302303  0  \n",
      "4          -1.252795  0.777490 -1.613898 -0.212740  0  \n",
      "...              ...       ...       ...       ... ..  \n",
      "9995        1.166444 -0.772096 -0.908988 -0.414217  0  \n",
      "9996       -0.455238  0.555727  0.994368 -0.286562  0  \n",
      "9997       -0.338182  1.014143 -0.582528  0.638790  1  \n",
      "9998        0.443757 -0.306204 -0.949056 -0.448083  1  \n",
      "9999       -2.028548  0.726182 -1.167831 -1.285208  0  \n",
      "\n",
      "[10000 rows x 11 columns]\n"
     ]
    }
   ],
   "source": [
    "with open(\"./data/DigenData/all_new_test_sets.pkl\",'rb') as f:\n",
    "    digennoise = pickle.load(f)\n",
    "\n",
    "#print(digennoise.keys())\n",
    "\n",
    "with open(\"./data/DigenData/all_new_test_sets_no_noise.pkl\",'rb') as f:\n",
    "    digen = pickle.load(f)\n",
    "\n",
    "#print(digen.keys())\n",
    "#print(digen['digen8_4426'])\n",
    "Test= pd.DataFrame(digennoise['digen8_4426']['X'])\n",
    "yval = pd.DataFrame(digennoise['digen8_4426']['y'])\n",
    "current_noise = digennoise['digen8_4426']['noise']\n",
    "yval.columns = ['y']\n",
    "yval.rename(columns = {'0':'y'}, inplace = True)\n",
    "out = pd.concat([Test, yval], axis=1)\n",
    "out.index.name = 'InstanceId'\n",
    "out.to_csv('./data/DemoData/digen8_4426.csv')\n",
    "print(out)"
   ]
  },
  {
   "cell_type": "code",
   "execution_count": 7,
   "metadata": {},
   "outputs": [],
   "source": [
    "autotest = AutoRunner(dataset_names=['digen8_4426'], clean=False, class_label='y', instance_label='InstanceId')"
   ]
  },
  {
   "cell_type": "code",
   "execution_count": 8,
   "metadata": {},
   "outputs": [
    {
     "name": "stderr",
     "output_type": "stream",
     "text": [
      "INFO: ------------------------------------------------------- \n",
      "INFO: Loading Dataset: hcc-data_example\n"
     ]
    },
    {
     "ename": "type",
     "evalue": "Class label not found in file",
     "output_type": "error",
     "traceback": [
      "\u001b[0;31m---------------------------------------------------------------------------\u001b[0m",
      "\u001b[0;31mException\u001b[0m                                 Traceback (most recent call last)",
      "Cell \u001b[0;32mIn[8], line 1\u001b[0m\n\u001b[0;32m----> 1\u001b[0m autotest\u001b[39m.\u001b[39;49mrun()\n",
      "File \u001b[0;32m~/AutoTest/STREAMLINE/streamline/runners/auto_runner.py:187\u001b[0m, in \u001b[0;36mAutoRunner.run\u001b[0;34m(self, run_para)\u001b[0m\n\u001b[1;32m    174\u001b[0m     shutil\u001b[39m.\u001b[39mrmtree(\u001b[39mself\u001b[39m\u001b[39m.\u001b[39moutput_path\u001b[39m+\u001b[39m\u001b[39m'\u001b[39m\u001b[39m/\u001b[39m\u001b[39m'\u001b[39m\u001b[39m+\u001b[39m\u001b[39mself\u001b[39m\u001b[39m.\u001b[39mexperiment_name)\n\u001b[1;32m    175\u001b[0m dpr \u001b[39m=\u001b[39m DataProcessRunner(data_path\u001b[39m=\u001b[39m\u001b[39mself\u001b[39m\u001b[39m.\u001b[39mdata_path, output_path\u001b[39m=\u001b[39m\u001b[39mself\u001b[39m\u001b[39m.\u001b[39moutput_path,\n\u001b[1;32m    176\u001b[0m         experiment_name\u001b[39m=\u001b[39m\u001b[39mself\u001b[39m\u001b[39m.\u001b[39mexperiment_name, exploration_list\u001b[39m=\u001b[39m\u001b[39mself\u001b[39m\u001b[39m.\u001b[39mexploration_list,\n\u001b[1;32m    177\u001b[0m         plot_list\u001b[39m=\u001b[39m\u001b[39mself\u001b[39m\u001b[39m.\u001b[39mplot_list, class_label\u001b[39m=\u001b[39m\u001b[39mself\u001b[39m\u001b[39m.\u001b[39mclass_label,\n\u001b[0;32m   (...)\u001b[0m\n\u001b[1;32m    185\u001b[0m         random_state\u001b[39m=\u001b[39m\u001b[39mself\u001b[39m\u001b[39m.\u001b[39mrandom_state, run_cluster\u001b[39m=\u001b[39m\u001b[39mself\u001b[39m\u001b[39m.\u001b[39mrun_cluster, queue\u001b[39m=\u001b[39m\u001b[39mself\u001b[39m\u001b[39m.\u001b[39mqueue,\n\u001b[1;32m    186\u001b[0m         reserved_memory\u001b[39m=\u001b[39m\u001b[39mself\u001b[39m\u001b[39m.\u001b[39mreserved_memory, show_plots\u001b[39m=\u001b[39m\u001b[39mself\u001b[39m\u001b[39m.\u001b[39mshow_plots)\n\u001b[0;32m--> 187\u001b[0m dpr\u001b[39m.\u001b[39;49mrun(run_parallel\u001b[39m=\u001b[39;49mrun_para)\n\u001b[1;32m    188\u001b[0m ir \u001b[39m=\u001b[39m ImputationRunner(output_path\u001b[39m=\u001b[39m\u001b[39mself\u001b[39m\u001b[39m.\u001b[39moutput_path, experiment_name\u001b[39m=\u001b[39m\u001b[39mself\u001b[39m\u001b[39m.\u001b[39mexperiment_name, \n\u001b[1;32m    189\u001b[0m                 scale_data\u001b[39m=\u001b[39m\u001b[39mself\u001b[39m\u001b[39m.\u001b[39mimpute_scale_data, impute_data\u001b[39m=\u001b[39m\u001b[39mself\u001b[39m\u001b[39m.\u001b[39mimpute_data,\n\u001b[1;32m    190\u001b[0m                 multi_impute\u001b[39m=\u001b[39m\u001b[39mself\u001b[39m\u001b[39m.\u001b[39mimpute_multi_impute, overwrite_cv\u001b[39m=\u001b[39m\u001b[39mself\u001b[39m\u001b[39m.\u001b[39mimpute_overwrite_cv, \n\u001b[1;32m    191\u001b[0m                 class_label\u001b[39m=\u001b[39m\u001b[39mself\u001b[39m\u001b[39m.\u001b[39mclass_label, instance_label\u001b[39m=\u001b[39m\u001b[39mself\u001b[39m\u001b[39m.\u001b[39minstance_label, \n\u001b[1;32m    192\u001b[0m                 random_state\u001b[39m=\u001b[39m\u001b[39mself\u001b[39m\u001b[39m.\u001b[39mrandom_state)\n\u001b[1;32m    193\u001b[0m ir\u001b[39m.\u001b[39mrun(run_parallel\u001b[39m=\u001b[39mrun_para)\n",
      "File \u001b[0;32m~/AutoTest/STREAMLINE/streamline/runners/dataprocess_runner.py:148\u001b[0m, in \u001b[0;36mDataProcessRunner.run\u001b[0;34m(self, run_parallel)\u001b[0m\n\u001b[1;32m    146\u001b[0m     \u001b[39mself\u001b[39m\u001b[39m.\u001b[39msubmit_lsf_cluster_job(dataset_path)\n\u001b[1;32m    147\u001b[0m     \u001b[39mcontinue\u001b[39;00m\n\u001b[0;32m--> 148\u001b[0m dataset \u001b[39m=\u001b[39m Dataset(dataset_path, \u001b[39mself\u001b[39;49m\u001b[39m.\u001b[39;49mclass_label, \u001b[39mself\u001b[39;49m\u001b[39m.\u001b[39;49mmatch_label, \u001b[39mself\u001b[39;49m\u001b[39m.\u001b[39;49minstance_label)\n\u001b[1;32m    149\u001b[0m job_obj \u001b[39m=\u001b[39m DataProcess(dataset, \u001b[39mself\u001b[39m\u001b[39m.\u001b[39moutput_path \u001b[39m+\u001b[39m \u001b[39m'\u001b[39m\u001b[39m/\u001b[39m\u001b[39m'\u001b[39m \u001b[39m+\u001b[39m \u001b[39mself\u001b[39m\u001b[39m.\u001b[39mexperiment_name,\n\u001b[1;32m    150\u001b[0m                       \u001b[39mself\u001b[39m\u001b[39m.\u001b[39mignore_features,\n\u001b[1;32m    151\u001b[0m                       \u001b[39mself\u001b[39m\u001b[39m.\u001b[39mcategorical_features, \u001b[39mself\u001b[39m\u001b[39m.\u001b[39mquantitative_features,\n\u001b[0;32m   (...)\u001b[0m\n\u001b[1;32m    155\u001b[0m                       \u001b[39mself\u001b[39m\u001b[39m.\u001b[39mpartition_method, \u001b[39mself\u001b[39m\u001b[39m.\u001b[39mn_splits,\n\u001b[1;32m    156\u001b[0m                       \u001b[39mself\u001b[39m\u001b[39m.\u001b[39mrandom_state, \u001b[39mself\u001b[39m\u001b[39m.\u001b[39mshow_plots)\n\u001b[1;32m    157\u001b[0m job_obj_list\u001b[39m.\u001b[39mappend(job_obj)\n",
      "File \u001b[0;32m~/AutoTest/STREAMLINE/streamline/utils/dataset.py:39\u001b[0m, in \u001b[0;36mDataset.__init__\u001b[0;34m(self, dataset_path, class_label, match_label, instance_label)\u001b[0m\n\u001b[1;32m     37\u001b[0m \u001b[39mself\u001b[39m\u001b[39m.\u001b[39mcategorical_variables \u001b[39m=\u001b[39m \u001b[39mNone\u001b[39;00m\n\u001b[1;32m     38\u001b[0m \u001b[39mself\u001b[39m\u001b[39m.\u001b[39mquantitative_variables \u001b[39m=\u001b[39m \u001b[39mNone\u001b[39;00m\n\u001b[0;32m---> 39\u001b[0m \u001b[39mself\u001b[39;49m\u001b[39m.\u001b[39;49mload_data()\n",
      "File \u001b[0;32m~/AutoTest/STREAMLINE/streamline/utils/dataset.py:60\u001b[0m, in \u001b[0;36mDataset.load_data\u001b[0;34m(self)\u001b[0m\n\u001b[1;32m     57\u001b[0m \u001b[39mself\u001b[39m\u001b[39m.\u001b[39mdata\u001b[39m.\u001b[39mcolumns \u001b[39m=\u001b[39m \u001b[39mself\u001b[39m\u001b[39m.\u001b[39mdata\u001b[39m.\u001b[39mcolumns\u001b[39m.\u001b[39mstr\u001b[39m.\u001b[39mstrip()\n\u001b[1;32m     59\u001b[0m \u001b[39mif\u001b[39;00m \u001b[39mnot\u001b[39;00m (\u001b[39mself\u001b[39m\u001b[39m.\u001b[39mclass_label \u001b[39min\u001b[39;00m \u001b[39mself\u001b[39m\u001b[39m.\u001b[39mdata\u001b[39m.\u001b[39mcolumns):\n\u001b[0;32m---> 60\u001b[0m     \u001b[39mraise\u001b[39;00m \u001b[39mException\u001b[39;00m(\u001b[39m\"\u001b[39m\u001b[39mClass label not found in file\u001b[39m\u001b[39m\"\u001b[39m)\n\u001b[1;32m     61\u001b[0m \u001b[39mif\u001b[39;00m \u001b[39mself\u001b[39m\u001b[39m.\u001b[39mmatch_label \u001b[39mand\u001b[39;00m \u001b[39mnot\u001b[39;00m (\u001b[39mself\u001b[39m\u001b[39m.\u001b[39mmatch_label \u001b[39min\u001b[39;00m \u001b[39mself\u001b[39m\u001b[39m.\u001b[39mdata\u001b[39m.\u001b[39mcolumns):\n\u001b[1;32m     62\u001b[0m     \u001b[39mraise\u001b[39;00m \u001b[39mException\u001b[39;00m(\u001b[39m\"\u001b[39m\u001b[39mMatch label not found in file\u001b[39m\u001b[39m\"\u001b[39m)\n",
      "\u001b[0;31mException\u001b[0m: Class label not found in file"
     ]
    }
   ],
   "source": [
    "autotest.run()"
   ]
  }
 ],
 "metadata": {
  "kernelspec": {
   "display_name": "AutoTestEnv",
   "language": "python",
   "name": "python3"
  },
  "language_info": {
   "codemirror_mode": {
    "name": "ipython",
    "version": 3
   },
   "file_extension": ".py",
   "mimetype": "text/x-python",
   "name": "python",
   "nbconvert_exporter": "python",
   "pygments_lexer": "ipython3",
   "version": "3.10.5"
  },
  "orig_nbformat": 4
 },
 "nbformat": 4,
 "nbformat_minor": 2
}
