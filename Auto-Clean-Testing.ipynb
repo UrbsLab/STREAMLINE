{
 "cells": [
  {
   "attachments": {},
   "cell_type": "markdown",
   "metadata": {},
   "source": [
    "Auto-Clean-Test"
   ]
  },
  {
   "cell_type": "code",
   "execution_count": 1,
   "metadata": {},
   "outputs": [
    {
     "name": "stderr",
     "output_type": "stream",
     "text": [
      "/Users/gabrielketron/AutoTest/AutoTestEnv/lib/python3.10/site-packages/tqdm/auto.py:21: TqdmWarning: IProgress not found. Please update jupyter and ipywidgets. See https://ipywidgets.readthedocs.io/en/stable/user_install.html\n",
      "  from .autonotebook import tqdm as notebook_tqdm\n"
     ]
    }
   ],
   "source": [
    "import logging\n",
    "import os\n",
    "import shutil\n",
    "import dill as pickle\n",
    "import pandas as pd\n",
    "\n",
    "from streamline.runners.auto_runner import AutoRunner\n",
    "from streamline.runners.clean_optimize_runner import OptimizeClean"
   ]
  },
  {
   "cell_type": "code",
   "execution_count": 2,
   "metadata": {},
   "outputs": [
    {
     "name": "stdout",
     "output_type": "stream",
     "text": [
      "                  X0        X1        X2        X3        X4        X5  \\\n",
      "InstanceId                                                               \n",
      "0           1.764052  0.400157  0.978738  2.240893  1.867558 -0.977278   \n",
      "1           0.144044  1.454274  0.761038  0.121675  0.443863  0.333674   \n",
      "2          -2.552990  0.653619  0.864436 -0.742165  2.269755 -1.454366   \n",
      "3           0.154947  0.378163 -0.887786 -1.980796 -0.347912  0.156349   \n",
      "4          -1.048553 -1.420018 -1.706270  1.950775 -0.509652 -0.438074   \n",
      "...              ...       ...       ...       ...       ...       ...   \n",
      "9995       -0.030453  1.082681 -0.530580  0.602367 -2.138291 -0.056632   \n",
      "9996        2.520830 -0.124884  0.018068 -0.998623 -1.262734 -0.565107   \n",
      "9997       -0.545705  1.696766 -0.508186  0.003621 -1.018515  0.251562   \n",
      "9998       -0.367787 -0.568358 -0.721248  0.198280 -0.217422  0.914757   \n",
      "9999        0.428571 -0.164999  0.864963 -0.647662  0.720058 -0.337715   \n",
      "\n",
      "                  X6        X7        X8        X9  y  \n",
      "InstanceId                                             \n",
      "0           0.950088 -0.151357 -0.103219  0.410599  0  \n",
      "1           1.494079 -0.205158  0.313068 -0.854096  1  \n",
      "2           0.045759 -0.187184  1.532779  1.469359  1  \n",
      "3           1.230291  1.202380 -0.387327 -0.302303  0  \n",
      "4          -1.252795  0.777490 -1.613898 -0.212740  0  \n",
      "...              ...       ...       ...       ... ..  \n",
      "9995        1.166444 -0.772096 -0.908988 -0.414217  0  \n",
      "9996       -0.455238  0.555727  0.994368 -0.286562  0  \n",
      "9997       -0.338182  1.014143 -0.582528  0.638790  1  \n",
      "9998        0.443757 -0.306204 -0.949056 -0.448083  1  \n",
      "9999       -2.028548  0.726182 -1.167831 -1.285208  0  \n",
      "\n",
      "[10000 rows x 11 columns]\n"
     ]
    }
   ],
   "source": [
    "with open(\"./data/DigenData/all_new_test_sets.pkl\",'rb') as f:\n",
    "    digennoise = pickle.load(f)\n",
    "\n",
    "#print(digennoise.keys())\n",
    "\n",
    "with open(\"./data/DigenData/all_new_test_sets_no_noise.pkl\",'rb') as f:\n",
    "    digen = pickle.load(f)\n",
    "\n",
    "#print(digen.keys())\n",
    "#print(digen['digen8_4426'])\n",
    "Test= pd.DataFrame(digennoise['digen8_4426']['X'])\n",
    "yval = pd.DataFrame(digennoise['digen8_4426']['y'])\n",
    "current_noise = digennoise['digen8_4426']['noise']\n",
    "yval.columns = ['y']\n",
    "yval.rename(columns = {'0':'y'}, inplace = True)\n",
    "out = pd.concat([Test, yval], axis=1)\n",
    "out.index.name = 'InstanceId'\n",
    "out.to_csv('./data/DemoData/digen8_4426.csv')\n",
    "print(out)"
   ]
  },
  {
   "cell_type": "code",
   "execution_count": 3,
   "metadata": {},
   "outputs": [
    {
     "name": "stderr",
     "output_type": "stream",
     "text": [
      "[I 2023-06-30 14:23:11,536] A new study created in memory with name: no-name-19085e30-b823-4efe-b140-a1e22be0bc95\n",
      "  0%|          | 0/1 [00:00<?, ?it/s]INFO: ------------------------------------------------------- \n",
      "INFO: Loading Dataset: hcc-data_example\n",
      "INFO: Validating and Identifying Feature Types...\n",
      "WARNING: User did not specify categorical vs quantitative features; feature types will be automatically assigned based on categorical_cutoff parameter\n",
      "INFO: Running Initial EDA:\n",
      "INFO: Initial Data Counts: ----------------\n",
      "INFO: Instance Count = 165\n",
      "INFO: Feature Count = 49\n",
      "INFO:     Categorical  = 27\n",
      "INFO:     Quantitative = 22\n",
      "INFO: Missing Count = 826\n",
      "INFO:     Missing Percent = 0.10216450216450217\n",
      "INFO: Class Counts: ----------------\n",
      "INFO: Class Count Information\n",
      "INFO: \n",
      "   Class  Instances\n",
      "0      0        102\n",
      "1      1         63\n",
      "INFO: No textual categorical features, skipping label encoding\n",
      "INFO: Running Feature Engineering\n",
      "INFO: No Features with high missingness found\n",
      "INFO: Not removing any features due to high missingness\n",
      "INFO: One-hot encoding the following features:\n",
      "INFO: \tPerformance Status*\n",
      "INFO: \tEncephalopathy degree*\n",
      "INFO: \tAscites degree*\n",
      "INFO: \tNumber of Nodules\n",
      "INFO: Top 10 Correlated Features\n",
      "INFO: \n",
      "                 Removed_Feature            Correlated_Feature  Correlation\n",
      "2074      Total Bilirubin(mg/dL)      Direct Bilirubin (mg/dL)     0.969889\n",
      "3132  Encephalopathy degree*_1.0    Encephalopathy degree*_2.0    -0.886881\n",
      "2631                        Iron         Oxygen Saturation (%)     0.782957\n",
      "3321         Ascites degree*_1.0           Ascites degree*_2.0    -0.743376\n",
      "2130  Alanine transaminase (U/L)  Aspartate transaminase (U/L)     0.723559\n",
      "147                      Alcohol      Grams of Alcohol per day     0.698522\n",
      "1063          Esophageal Varices           Portal Hypertension     0.630940\n",
      "1062          Esophageal Varices                  Splenomegaly     0.630761\n",
      "3570       Number of Nodules_1.0         Number of Nodules_5.0    -0.603396\n",
      "1125                Splenomegaly           Portal Hypertension     0.601464\n",
      "INFO: Removing the following Features due to high correlation:\n",
      "INFO: Total Bilirubin(mg/dL)\n",
      "INFO: Encephalopathy degree*_1.0\n",
      "INFO: Iron\n",
      "INFO: Ascites degree*_1.0\n",
      "INFO: Alanine transaminase (U/L)\n",
      "INFO: Alcohol\n",
      "INFO: Running Basic Exploratory Analysis...\n",
      "INFO: Processed Data Counts: ----------------\n",
      "INFO: Instance Count = 158\n",
      "INFO: Feature Count = 56\n",
      "INFO:     Categorical  = 37\n",
      "INFO:     Quantitative = 19\n",
      "INFO: Missing Count = 629\n",
      "INFO:     Missing Percent = 0.07108951175406872\n",
      "INFO: Class Counts: ----------------\n",
      "INFO: Class Count Information\n",
      "INFO: \n",
      "   Class  Instances\n",
      "0      0         98\n",
      "1      1         60\n",
      "INFO: Categorical Features: ['Gender', 'Symptoms', 'Hepatitis B Surface Antigen', 'Hepatitis B e Antigen', 'Hepatitis B Core Antibody', 'Hepatitis C Virus Antibody', 'Cirrhosis', 'Endemic Countries', 'Smoking', 'Diabetes', 'Obesity', 'Hemochromatosis', 'Arterial Hypertension', 'Chronic Renal Insufficiency', 'Human Immunodeficiency Virus', 'Nonalcoholic Steatohepatitis', 'Esophageal Varices', 'Splenomegaly', 'Portal Hypertension', 'Portal Vein Thrombosis', 'Liver Metastasis', 'Radiological Hallmark', 'Performance Status*_0', 'Performance Status*_1', 'Performance Status*_2', 'Performance Status*_3', 'Performance Status*_4', 'Encephalopathy degree*_2.0', 'Encephalopathy degree*_3.0', 'Ascites degree*_2.0', 'Ascites degree*_3.0', 'Number of Nodules_0.0', 'Number of Nodules_1.0', 'Number of Nodules_2.0', 'Number of Nodules_3.0', 'Number of Nodules_4.0', 'Number of Nodules_5.0']\n",
      "INFO: \t Engineered Features: []\n",
      "INFO: \t One Hot Features: ['Performance Status*_0', 'Performance Status*_1', 'Performance Status*_2', 'Performance Status*_3', 'Performance Status*_4', 'Encephalopathy degree*_2.0', 'Encephalopathy degree*_3.0', 'Ascites degree*_2.0', 'Ascites degree*_3.0', 'Number of Nodules_0.0', 'Number of Nodules_1.0', 'Number of Nodules_2.0', 'Number of Nodules_3.0', 'Number of Nodules_4.0', 'Number of Nodules_5.0']\n",
      "INFO: Quantitative Features: ['Age at diagnosis', 'Grams of Alcohol per day', 'Packs of cigarets per year', 'International Normalised Ratio*', 'Alpha-Fetoprotein (ng/mL)', 'Haemoglobin (g/dL)', 'Mean Corpuscular Volume', 'Leukocytes(G/L)', 'Platelets', 'Albumin (mg/dL)', 'Aspartate transaminase (U/L)', 'Gamma glutamyl transferase (U/L)', 'Alkaline phosphatase (U/L)', 'Total Proteins (g/dL)', 'Creatinine (mg/dL)', 'Major dimension of nodule (cm)', 'Direct Bilirubin (mg/dL)', 'Oxygen Saturation (%)', 'Ferritin (ng/mL)']\n",
      "INFO: Final List of Features:\n",
      "INFO: ['Gender', 'Symptoms', 'Hepatitis B Surface Antigen', 'Hepatitis B e Antigen', 'Hepatitis B Core Antibody', 'Hepatitis C Virus Antibody', 'Cirrhosis', 'Endemic Countries', 'Smoking', 'Diabetes', 'Obesity', 'Hemochromatosis', 'Arterial Hypertension', 'Chronic Renal Insufficiency', 'Human Immunodeficiency Virus', 'Nonalcoholic Steatohepatitis', 'Esophageal Varices', 'Splenomegaly', 'Portal Hypertension', 'Portal Vein Thrombosis', 'Liver Metastasis', 'Radiological Hallmark', 'Age at diagnosis', 'Grams of Alcohol per day', 'Packs of cigarets per year', 'International Normalised Ratio*', 'Alpha-Fetoprotein (ng/mL)', 'Haemoglobin (g/dL)', 'Mean Corpuscular Volume', 'Leukocytes(G/L)', 'Platelets', 'Albumin (mg/dL)', 'Aspartate transaminase (U/L)', 'Gamma glutamyl transferase (U/L)', 'Alkaline phosphatase (U/L)', 'Total Proteins (g/dL)', 'Creatinine (mg/dL)', 'Major dimension of nodule (cm)', 'Direct Bilirubin (mg/dL)', 'Oxygen Saturation (%)', 'Ferritin (ng/mL)', 'Performance Status*_0', 'Performance Status*_1', 'Performance Status*_2', 'Performance Status*_3', 'Performance Status*_4', 'Encephalopathy degree*_2.0', 'Encephalopathy degree*_3.0', 'Ascites degree*_2.0', 'Ascites degree*_3.0', 'Number of Nodules_0.0', 'Number of Nodules_1.0', 'Number of Nodules_2.0', 'Number of Nodules_3.0', 'Number of Nodules_4.0', 'Number of Nodules_5.0']\n",
      "INFO: Generating Feature Correlation Heatmap...\n",
      "INFO: Running Univariate Analyses...\n",
      "INFO: Plotting top significant 40 features.\n",
      "INFO: ###################################################\n",
      "INFO: Significant Univariate Associations:\n",
      "INFO: Alkaline phosphatase (U/L): (p-val = 1.0813778771849198e-06)\n",
      "INFO: Alpha-Fetoprotein (ng/mL): (p-val = 2.422635023392503e-06)\n",
      "INFO: Haemoglobin (g/dL): (p-val = 1.4039511006488403e-05)\n",
      "INFO: Performance Status*_0: (p-val = 5.0059170530624875e-05)\n",
      "INFO: Albumin (mg/dL): (p-val = 0.00025558910288695397)\n",
      "INFO: Symptoms: (p-val = 0.0006474527844784244)\n",
      "INFO: Aspartate transaminase (U/L): (p-val = 0.0019517267845411428)\n",
      "INFO: Ferritin (ng/mL): (p-val = 0.0019988859548087426)\n",
      "INFO: Direct Bilirubin (mg/dL): (p-val = 0.0021671601043507377)\n",
      "INFO: Portal Vein Thrombosis: (p-val = 0.005491629046300359)\n",
      "INFO: Liver Metastasis: (p-val = 0.005491629046300359)\n",
      "INFO: Gamma glutamyl transferase (U/L): (p-val = 0.015287384733029572)\n",
      "INFO: Performance Status*_3: (p-val = 0.032397415605616285)\n",
      "INFO: Ascites degree*_3.0: (p-val = 0.032397415605616285)\n",
      "INFO: Major dimension of nodule (cm): (p-val = 0.03503709961588602)\n",
      "INFO: Performance Status*_4: (p-val = 0.03871021687791719)\n",
      "INFO: International Normalised Ratio*: (p-val = 0.039454379336249415)\n",
      "INFO: Age at diagnosis: (p-val = 0.06918566335898418)\n",
      "INFO: Encephalopathy degree*_3.0: (p-val = 0.1021800131813817)\n",
      "INFO: Ascites degree*_2.0: (p-val = 0.13453474239107316)\n",
      "INFO: Total Proteins (g/dL): (p-val = 0.17348546811778087)\n",
      "INFO: Creatinine (mg/dL): (p-val = 0.17626727985008095)\n",
      "INFO: Platelets: (p-val = 0.19899124566549864)\n",
      "INFO: Performance Status*_2: (p-val = 0.26016985124213954)\n",
      "INFO: Leukocytes(G/L): (p-val = 0.26207981525841806)\n",
      "INFO: Hepatitis C Virus Antibody: (p-val = 0.27782032050251704)\n",
      "INFO: Diabetes: (p-val = 0.27902723341122104)\n",
      "INFO: Oxygen Saturation (%): (p-val = 0.33185961027987754)\n",
      "INFO: Packs of cigarets per year: (p-val = 0.33210666416816037)\n",
      "INFO: Smoking: (p-val = 0.33577881147137995)\n",
      "INFO: Arterial Hypertension: (p-val = 0.35641587269443786)\n",
      "INFO: Performance Status*_1: (p-val = 0.378380849832495)\n",
      "INFO: Endemic Countries: (p-val = 0.38692861059319206)\n",
      "INFO: Number of Nodules_5.0: (p-val = 0.44389486850424287)\n",
      "INFO: Grams of Alcohol per day: (p-val = 0.46052440974831377)\n",
      "INFO: Mean Corpuscular Volume: (p-val = 0.5872703763046119)\n",
      "INFO: Hepatitis B Core Antibody: (p-val = 0.5874674065389769)\n",
      "INFO: Hepatitis B Surface Antigen: (p-val = 0.5881378860965503)\n",
      "INFO: Number of Nodules_1.0: (p-val = 0.6335404513841881)\n",
      "INFO: Number of Nodules_4.0: (p-val = 0.7035796420735148)\n",
      "INFO: Generating Univariate Analysis Plots...\n",
      "INFO: ------------------------------------------------------- \n",
      "INFO: Loading Dataset: digen8_4426\n",
      "  0%|          | 0/1 [00:03<?, ?it/s]\n"
     ]
    },
    {
     "name": "stdout",
     "output_type": "stream",
     "text": [
      "[W 2023-06-30 14:23:14,661] Trial 0 failed with parameters: {'categorical_cutoff': 10, 'sig_cutoff': 0.011101915777137284, 'featureeng_missingness': 0.7000000000000001, 'cleaning_missingness': 0.25, 'correlation_removal_threshold': 0.65, 'exploration_list': ['Describe', 'Univariate Analysis', 'Feature Correlation'], 'partition_method': 'Random', 'n_splits': 7} because of the following error: Exception('Class label not found in file').\n",
      "Traceback (most recent call last):\n",
      "  File \"/Users/gabrielketron/AutoTest/AutoTestEnv/lib/python3.10/site-packages/optuna/study/_optimize.py\", line 200, in _run_trial\n",
      "    value_or_values = func(trial)\n",
      "  File \"/Users/gabrielketron/AutoTest/STREAMLINE/streamline/runners/clean_optimize_runner.py\", line 52, in objective\n",
      "    output_csv = self.most_recent_run.run(run_para=False)\n",
      "  File \"/Users/gabrielketron/AutoTest/STREAMLINE/streamline/runners/auto_runner.py\", line 187, in run\n",
      "    dpr.run(run_parallel=run_para)\n",
      "  File \"/Users/gabrielketron/AutoTest/STREAMLINE/streamline/runners/dataprocess_runner.py\", line 148, in run\n",
      "    dataset = Dataset(dataset_path, self.class_label, self.match_label, self.instance_label)\n",
      "  File \"/Users/gabrielketron/AutoTest/STREAMLINE/streamline/utils/dataset.py\", line 39, in __init__\n",
      "    self.load_data()\n",
      "  File \"/Users/gabrielketron/AutoTest/STREAMLINE/streamline/utils/dataset.py\", line 60, in load_data\n",
      "    raise Exception(\"Class label not found in file\")\n",
      "Exception: Class label not found in file\n",
      "[W 2023-06-30 14:23:14,663] Trial 0 failed with value None.\n"
     ]
    },
    {
     "ename": "type",
     "evalue": "Class label not found in file",
     "output_type": "error",
     "traceback": [
      "\u001b[0;31m---------------------------------------------------------------------------\u001b[0m",
      "\u001b[0;31mException\u001b[0m                                 Traceback (most recent call last)",
      "Cell \u001b[0;32mIn[3], line 2\u001b[0m\n\u001b[1;32m      1\u001b[0m cleanrun \u001b[39m=\u001b[39m OptimizeClean(dataset_name\u001b[39m=\u001b[39m\u001b[39m'\u001b[39m\u001b[39mdigen8_4426\u001b[39m\u001b[39m'\u001b[39m)\n\u001b[0;32m----> 2\u001b[0m cleanrun\u001b[39m.\u001b[39;49mrun()\n\u001b[1;32m      3\u001b[0m \u001b[39mprint\u001b[39m(cleanrun\u001b[39m.\u001b[39mgoal)\n\u001b[1;32m      4\u001b[0m plt\u001b[39m.\u001b[39mshow()\n",
      "File \u001b[0;32m~/AutoTest/STREAMLINE/streamline/runners/clean_optimize_runner.py:66\u001b[0m, in \u001b[0;36mOptimizeClean.run\u001b[0;34m(self, run_para)\u001b[0m\n\u001b[1;32m     63\u001b[0m     \u001b[39mreturn\u001b[39;00m \u001b[39mself\u001b[39m\u001b[39m.\u001b[39mgoal\n\u001b[1;32m     65\u001b[0m study \u001b[39m=\u001b[39m optuna\u001b[39m.\u001b[39mcreate_study(sampler\u001b[39m=\u001b[39mTPESampler(), direction\u001b[39m=\u001b[39m\u001b[39mself\u001b[39m\u001b[39m.\u001b[39mopt_direction)\n\u001b[0;32m---> 66\u001b[0m study\u001b[39m.\u001b[39;49moptimize(objective, n_trials\u001b[39m=\u001b[39;49m\u001b[39m1\u001b[39;49m, show_progress_bar\u001b[39m=\u001b[39;49m\u001b[39mTrue\u001b[39;49;00m)\n",
      "File \u001b[0;32m~/AutoTest/AutoTestEnv/lib/python3.10/site-packages/optuna/study/study.py:443\u001b[0m, in \u001b[0;36mStudy.optimize\u001b[0;34m(self, func, n_trials, timeout, n_jobs, catch, callbacks, gc_after_trial, show_progress_bar)\u001b[0m\n\u001b[1;32m    339\u001b[0m \u001b[39mdef\u001b[39;00m \u001b[39moptimize\u001b[39m(\n\u001b[1;32m    340\u001b[0m     \u001b[39mself\u001b[39m,\n\u001b[1;32m    341\u001b[0m     func: ObjectiveFuncType,\n\u001b[0;32m   (...)\u001b[0m\n\u001b[1;32m    348\u001b[0m     show_progress_bar: \u001b[39mbool\u001b[39m \u001b[39m=\u001b[39m \u001b[39mFalse\u001b[39;00m,\n\u001b[1;32m    349\u001b[0m ) \u001b[39m-\u001b[39m\u001b[39m>\u001b[39m \u001b[39mNone\u001b[39;00m:\n\u001b[1;32m    350\u001b[0m \u001b[39m    \u001b[39m\u001b[39m\"\"\"Optimize an objective function.\u001b[39;00m\n\u001b[1;32m    351\u001b[0m \n\u001b[1;32m    352\u001b[0m \u001b[39m    Optimization is done by choosing a suitable set of hyperparameter values from a given\u001b[39;00m\n\u001b[0;32m   (...)\u001b[0m\n\u001b[1;32m    440\u001b[0m \u001b[39m            If nested invocation of this method occurs.\u001b[39;00m\n\u001b[1;32m    441\u001b[0m \u001b[39m    \"\"\"\u001b[39;00m\n\u001b[0;32m--> 443\u001b[0m     _optimize(\n\u001b[1;32m    444\u001b[0m         study\u001b[39m=\u001b[39;49m\u001b[39mself\u001b[39;49m,\n\u001b[1;32m    445\u001b[0m         func\u001b[39m=\u001b[39;49mfunc,\n\u001b[1;32m    446\u001b[0m         n_trials\u001b[39m=\u001b[39;49mn_trials,\n\u001b[1;32m    447\u001b[0m         timeout\u001b[39m=\u001b[39;49mtimeout,\n\u001b[1;32m    448\u001b[0m         n_jobs\u001b[39m=\u001b[39;49mn_jobs,\n\u001b[1;32m    449\u001b[0m         catch\u001b[39m=\u001b[39;49m\u001b[39mtuple\u001b[39;49m(catch) \u001b[39mif\u001b[39;49;00m \u001b[39misinstance\u001b[39;49m(catch, Iterable) \u001b[39melse\u001b[39;49;00m (catch,),\n\u001b[1;32m    450\u001b[0m         callbacks\u001b[39m=\u001b[39;49mcallbacks,\n\u001b[1;32m    451\u001b[0m         gc_after_trial\u001b[39m=\u001b[39;49mgc_after_trial,\n\u001b[1;32m    452\u001b[0m         show_progress_bar\u001b[39m=\u001b[39;49mshow_progress_bar,\n\u001b[1;32m    453\u001b[0m     )\n",
      "File \u001b[0;32m~/AutoTest/AutoTestEnv/lib/python3.10/site-packages/optuna/study/_optimize.py:66\u001b[0m, in \u001b[0;36m_optimize\u001b[0;34m(study, func, n_trials, timeout, n_jobs, catch, callbacks, gc_after_trial, show_progress_bar)\u001b[0m\n\u001b[1;32m     64\u001b[0m \u001b[39mtry\u001b[39;00m:\n\u001b[1;32m     65\u001b[0m     \u001b[39mif\u001b[39;00m n_jobs \u001b[39m==\u001b[39m \u001b[39m1\u001b[39m:\n\u001b[0;32m---> 66\u001b[0m         _optimize_sequential(\n\u001b[1;32m     67\u001b[0m             study,\n\u001b[1;32m     68\u001b[0m             func,\n\u001b[1;32m     69\u001b[0m             n_trials,\n\u001b[1;32m     70\u001b[0m             timeout,\n\u001b[1;32m     71\u001b[0m             catch,\n\u001b[1;32m     72\u001b[0m             callbacks,\n\u001b[1;32m     73\u001b[0m             gc_after_trial,\n\u001b[1;32m     74\u001b[0m             reseed_sampler_rng\u001b[39m=\u001b[39;49m\u001b[39mFalse\u001b[39;49;00m,\n\u001b[1;32m     75\u001b[0m             time_start\u001b[39m=\u001b[39;49m\u001b[39mNone\u001b[39;49;00m,\n\u001b[1;32m     76\u001b[0m             progress_bar\u001b[39m=\u001b[39;49mprogress_bar,\n\u001b[1;32m     77\u001b[0m         )\n\u001b[1;32m     78\u001b[0m     \u001b[39melse\u001b[39;00m:\n\u001b[1;32m     79\u001b[0m         \u001b[39mif\u001b[39;00m n_jobs \u001b[39m==\u001b[39m \u001b[39m-\u001b[39m\u001b[39m1\u001b[39m:\n",
      "File \u001b[0;32m~/AutoTest/AutoTestEnv/lib/python3.10/site-packages/optuna/study/_optimize.py:163\u001b[0m, in \u001b[0;36m_optimize_sequential\u001b[0;34m(study, func, n_trials, timeout, catch, callbacks, gc_after_trial, reseed_sampler_rng, time_start, progress_bar)\u001b[0m\n\u001b[1;32m    160\u001b[0m         \u001b[39mbreak\u001b[39;00m\n\u001b[1;32m    162\u001b[0m \u001b[39mtry\u001b[39;00m:\n\u001b[0;32m--> 163\u001b[0m     frozen_trial \u001b[39m=\u001b[39m _run_trial(study, func, catch)\n\u001b[1;32m    164\u001b[0m \u001b[39mfinally\u001b[39;00m:\n\u001b[1;32m    165\u001b[0m     \u001b[39m# The following line mitigates memory problems that can be occurred in some\u001b[39;00m\n\u001b[1;32m    166\u001b[0m     \u001b[39m# environments (e.g., services that use computing containers such as GitHub Actions).\u001b[39;00m\n\u001b[1;32m    167\u001b[0m     \u001b[39m# Please refer to the following PR for further details:\u001b[39;00m\n\u001b[1;32m    168\u001b[0m     \u001b[39m# https://github.com/optuna/optuna/pull/325.\u001b[39;00m\n\u001b[1;32m    169\u001b[0m     \u001b[39mif\u001b[39;00m gc_after_trial:\n",
      "File \u001b[0;32m~/AutoTest/AutoTestEnv/lib/python3.10/site-packages/optuna/study/_optimize.py:251\u001b[0m, in \u001b[0;36m_run_trial\u001b[0;34m(study, func, catch)\u001b[0m\n\u001b[1;32m    244\u001b[0m         \u001b[39massert\u001b[39;00m \u001b[39mFalse\u001b[39;00m, \u001b[39m\"\u001b[39m\u001b[39mShould not reach.\u001b[39m\u001b[39m\"\u001b[39m\n\u001b[1;32m    246\u001b[0m \u001b[39mif\u001b[39;00m (\n\u001b[1;32m    247\u001b[0m     frozen_trial\u001b[39m.\u001b[39mstate \u001b[39m==\u001b[39m TrialState\u001b[39m.\u001b[39mFAIL\n\u001b[1;32m    248\u001b[0m     \u001b[39mand\u001b[39;00m func_err \u001b[39mis\u001b[39;00m \u001b[39mnot\u001b[39;00m \u001b[39mNone\u001b[39;00m\n\u001b[1;32m    249\u001b[0m     \u001b[39mand\u001b[39;00m \u001b[39mnot\u001b[39;00m \u001b[39misinstance\u001b[39m(func_err, catch)\n\u001b[1;32m    250\u001b[0m ):\n\u001b[0;32m--> 251\u001b[0m     \u001b[39mraise\u001b[39;00m func_err\n\u001b[1;32m    252\u001b[0m \u001b[39mreturn\u001b[39;00m frozen_trial\n",
      "File \u001b[0;32m~/AutoTest/AutoTestEnv/lib/python3.10/site-packages/optuna/study/_optimize.py:200\u001b[0m, in \u001b[0;36m_run_trial\u001b[0;34m(study, func, catch)\u001b[0m\n\u001b[1;32m    198\u001b[0m \u001b[39mwith\u001b[39;00m get_heartbeat_thread(trial\u001b[39m.\u001b[39m_trial_id, study\u001b[39m.\u001b[39m_storage):\n\u001b[1;32m    199\u001b[0m     \u001b[39mtry\u001b[39;00m:\n\u001b[0;32m--> 200\u001b[0m         value_or_values \u001b[39m=\u001b[39m func(trial)\n\u001b[1;32m    201\u001b[0m     \u001b[39mexcept\u001b[39;00m exceptions\u001b[39m.\u001b[39mTrialPruned \u001b[39mas\u001b[39;00m e:\n\u001b[1;32m    202\u001b[0m         \u001b[39m# TODO(mamu): Handle multi-objective cases.\u001b[39;00m\n\u001b[1;32m    203\u001b[0m         state \u001b[39m=\u001b[39m TrialState\u001b[39m.\u001b[39mPRUNED\n",
      "File \u001b[0;32m~/AutoTest/STREAMLINE/streamline/runners/clean_optimize_runner.py:52\u001b[0m, in \u001b[0;36mOptimizeClean.run.<locals>.objective\u001b[0;34m(trial)\u001b[0m\n\u001b[1;32m     38\u001b[0m param \u001b[39m=\u001b[39m {\n\u001b[1;32m     39\u001b[0m     \u001b[39m'\u001b[39m\u001b[39mcategorical_cutoff\u001b[39m\u001b[39m'\u001b[39m: categorical_cutoff,\n\u001b[1;32m     40\u001b[0m     \u001b[39m'\u001b[39m\u001b[39msig_cutoff\u001b[39m\u001b[39m'\u001b[39m: sig_cutoff,\n\u001b[0;32m   (...)\u001b[0m\n\u001b[1;32m     46\u001b[0m     \u001b[39m'\u001b[39m\u001b[39mn_splits\u001b[39m\u001b[39m'\u001b[39m: n_splits\n\u001b[1;32m     47\u001b[0m }\n\u001b[1;32m     48\u001b[0m \u001b[39mself\u001b[39m\u001b[39m.\u001b[39mmost_recent_run \u001b[39m=\u001b[39m AutoRunner(dataset_names\u001b[39m=\u001b[39m\u001b[39mself\u001b[39m\u001b[39m.\u001b[39mdataset, gen_report\u001b[39m=\u001b[39m\u001b[39mFalse\u001b[39;00m, clean\u001b[39m=\u001b[39m\u001b[39mFalse\u001b[39;00m,\n\u001b[1;32m     49\u001b[0m                                 categorical_cutoff\u001b[39m=\u001b[39mcategorical_cutoff, sig_cutoff\u001b[39m=\u001b[39msig_cutoff, featureeng_missingness\u001b[39m=\u001b[39mfeatureeng_missingness,\n\u001b[1;32m     50\u001b[0m                                 cleaning_missingness\u001b[39m=\u001b[39mcleaning_missingness, correlation_removal_threshold\u001b[39m=\u001b[39mcorrelation_removal_threshold,\n\u001b[1;32m     51\u001b[0m                                 exploration_list\u001b[39m=\u001b[39mexploration_list, partition_method\u001b[39m=\u001b[39mpartition_method, n_splits\u001b[39m=\u001b[39mn_splits)\n\u001b[0;32m---> 52\u001b[0m output_csv \u001b[39m=\u001b[39m \u001b[39mself\u001b[39;49m\u001b[39m.\u001b[39;49mmost_recent_run\u001b[39m.\u001b[39;49mrun(run_para\u001b[39m=\u001b[39;49m\u001b[39mFalse\u001b[39;49;00m)\n\u001b[1;32m     53\u001b[0m performance \u001b[39m=\u001b[39m pd\u001b[39m.\u001b[39mread_csv(output_csv)\n\u001b[1;32m     54\u001b[0m \u001b[39mself\u001b[39m\u001b[39m.\u001b[39msummary_chart \u001b[39m=\u001b[39m performance\n",
      "File \u001b[0;32m~/AutoTest/STREAMLINE/streamline/runners/auto_runner.py:187\u001b[0m, in \u001b[0;36mAutoRunner.run\u001b[0;34m(self, run_para)\u001b[0m\n\u001b[1;32m    174\u001b[0m     shutil\u001b[39m.\u001b[39mrmtree(\u001b[39mself\u001b[39m\u001b[39m.\u001b[39moutput_path\u001b[39m+\u001b[39m\u001b[39m'\u001b[39m\u001b[39m/\u001b[39m\u001b[39m'\u001b[39m\u001b[39m+\u001b[39m\u001b[39mself\u001b[39m\u001b[39m.\u001b[39mexperiment_name)\n\u001b[1;32m    175\u001b[0m dpr \u001b[39m=\u001b[39m DataProcessRunner(data_path\u001b[39m=\u001b[39m\u001b[39mself\u001b[39m\u001b[39m.\u001b[39mdata_path, output_path\u001b[39m=\u001b[39m\u001b[39mself\u001b[39m\u001b[39m.\u001b[39moutput_path,\n\u001b[1;32m    176\u001b[0m         experiment_name\u001b[39m=\u001b[39m\u001b[39mself\u001b[39m\u001b[39m.\u001b[39mexperiment_name, exploration_list\u001b[39m=\u001b[39m\u001b[39mself\u001b[39m\u001b[39m.\u001b[39mexploration_list,\n\u001b[1;32m    177\u001b[0m         plot_list\u001b[39m=\u001b[39m\u001b[39mself\u001b[39m\u001b[39m.\u001b[39mplot_list, class_label\u001b[39m=\u001b[39m\u001b[39mself\u001b[39m\u001b[39m.\u001b[39mclass_label,\n\u001b[0;32m   (...)\u001b[0m\n\u001b[1;32m    185\u001b[0m         random_state\u001b[39m=\u001b[39m\u001b[39mself\u001b[39m\u001b[39m.\u001b[39mrandom_state, run_cluster\u001b[39m=\u001b[39m\u001b[39mself\u001b[39m\u001b[39m.\u001b[39mrun_cluster, queue\u001b[39m=\u001b[39m\u001b[39mself\u001b[39m\u001b[39m.\u001b[39mqueue,\n\u001b[1;32m    186\u001b[0m         reserved_memory\u001b[39m=\u001b[39m\u001b[39mself\u001b[39m\u001b[39m.\u001b[39mreserved_memory, show_plots\u001b[39m=\u001b[39m\u001b[39mself\u001b[39m\u001b[39m.\u001b[39mshow_plots)\n\u001b[0;32m--> 187\u001b[0m dpr\u001b[39m.\u001b[39;49mrun(run_parallel\u001b[39m=\u001b[39;49mrun_para)\n\u001b[1;32m    188\u001b[0m ir \u001b[39m=\u001b[39m ImputationRunner(output_path\u001b[39m=\u001b[39m\u001b[39mself\u001b[39m\u001b[39m.\u001b[39moutput_path, experiment_name\u001b[39m=\u001b[39m\u001b[39mself\u001b[39m\u001b[39m.\u001b[39mexperiment_name, \n\u001b[1;32m    189\u001b[0m                 scale_data\u001b[39m=\u001b[39m\u001b[39mself\u001b[39m\u001b[39m.\u001b[39mimpute_scale_data, impute_data\u001b[39m=\u001b[39m\u001b[39mself\u001b[39m\u001b[39m.\u001b[39mimpute_data,\n\u001b[1;32m    190\u001b[0m                 multi_impute\u001b[39m=\u001b[39m\u001b[39mself\u001b[39m\u001b[39m.\u001b[39mimpute_multi_impute, overwrite_cv\u001b[39m=\u001b[39m\u001b[39mself\u001b[39m\u001b[39m.\u001b[39mimpute_overwrite_cv, \n\u001b[1;32m    191\u001b[0m                 class_label\u001b[39m=\u001b[39m\u001b[39mself\u001b[39m\u001b[39m.\u001b[39mclass_label, instance_label\u001b[39m=\u001b[39m\u001b[39mself\u001b[39m\u001b[39m.\u001b[39minstance_label, \n\u001b[1;32m    192\u001b[0m                 random_state\u001b[39m=\u001b[39m\u001b[39mself\u001b[39m\u001b[39m.\u001b[39mrandom_state)\n\u001b[1;32m    193\u001b[0m ir\u001b[39m.\u001b[39mrun(run_parallel\u001b[39m=\u001b[39mrun_para)\n",
      "File \u001b[0;32m~/AutoTest/STREAMLINE/streamline/runners/dataprocess_runner.py:148\u001b[0m, in \u001b[0;36mDataProcessRunner.run\u001b[0;34m(self, run_parallel)\u001b[0m\n\u001b[1;32m    146\u001b[0m     \u001b[39mself\u001b[39m\u001b[39m.\u001b[39msubmit_lsf_cluster_job(dataset_path)\n\u001b[1;32m    147\u001b[0m     \u001b[39mcontinue\u001b[39;00m\n\u001b[0;32m--> 148\u001b[0m dataset \u001b[39m=\u001b[39m Dataset(dataset_path, \u001b[39mself\u001b[39;49m\u001b[39m.\u001b[39;49mclass_label, \u001b[39mself\u001b[39;49m\u001b[39m.\u001b[39;49mmatch_label, \u001b[39mself\u001b[39;49m\u001b[39m.\u001b[39;49minstance_label)\n\u001b[1;32m    149\u001b[0m job_obj \u001b[39m=\u001b[39m DataProcess(dataset, \u001b[39mself\u001b[39m\u001b[39m.\u001b[39moutput_path \u001b[39m+\u001b[39m \u001b[39m'\u001b[39m\u001b[39m/\u001b[39m\u001b[39m'\u001b[39m \u001b[39m+\u001b[39m \u001b[39mself\u001b[39m\u001b[39m.\u001b[39mexperiment_name,\n\u001b[1;32m    150\u001b[0m                       \u001b[39mself\u001b[39m\u001b[39m.\u001b[39mignore_features,\n\u001b[1;32m    151\u001b[0m                       \u001b[39mself\u001b[39m\u001b[39m.\u001b[39mcategorical_features, \u001b[39mself\u001b[39m\u001b[39m.\u001b[39mquantitative_features,\n\u001b[0;32m   (...)\u001b[0m\n\u001b[1;32m    155\u001b[0m                       \u001b[39mself\u001b[39m\u001b[39m.\u001b[39mpartition_method, \u001b[39mself\u001b[39m\u001b[39m.\u001b[39mn_splits,\n\u001b[1;32m    156\u001b[0m                       \u001b[39mself\u001b[39m\u001b[39m.\u001b[39mrandom_state, \u001b[39mself\u001b[39m\u001b[39m.\u001b[39mshow_plots)\n\u001b[1;32m    157\u001b[0m job_obj_list\u001b[39m.\u001b[39mappend(job_obj)\n",
      "File \u001b[0;32m~/AutoTest/STREAMLINE/streamline/utils/dataset.py:39\u001b[0m, in \u001b[0;36mDataset.__init__\u001b[0;34m(self, dataset_path, class_label, match_label, instance_label)\u001b[0m\n\u001b[1;32m     37\u001b[0m \u001b[39mself\u001b[39m\u001b[39m.\u001b[39mcategorical_variables \u001b[39m=\u001b[39m \u001b[39mNone\u001b[39;00m\n\u001b[1;32m     38\u001b[0m \u001b[39mself\u001b[39m\u001b[39m.\u001b[39mquantitative_variables \u001b[39m=\u001b[39m \u001b[39mNone\u001b[39;00m\n\u001b[0;32m---> 39\u001b[0m \u001b[39mself\u001b[39;49m\u001b[39m.\u001b[39;49mload_data()\n",
      "File \u001b[0;32m~/AutoTest/STREAMLINE/streamline/utils/dataset.py:60\u001b[0m, in \u001b[0;36mDataset.load_data\u001b[0;34m(self)\u001b[0m\n\u001b[1;32m     57\u001b[0m \u001b[39mself\u001b[39m\u001b[39m.\u001b[39mdata\u001b[39m.\u001b[39mcolumns \u001b[39m=\u001b[39m \u001b[39mself\u001b[39m\u001b[39m.\u001b[39mdata\u001b[39m.\u001b[39mcolumns\u001b[39m.\u001b[39mstr\u001b[39m.\u001b[39mstrip()\n\u001b[1;32m     59\u001b[0m \u001b[39mif\u001b[39;00m \u001b[39mnot\u001b[39;00m (\u001b[39mself\u001b[39m\u001b[39m.\u001b[39mclass_label \u001b[39min\u001b[39;00m \u001b[39mself\u001b[39m\u001b[39m.\u001b[39mdata\u001b[39m.\u001b[39mcolumns):\n\u001b[0;32m---> 60\u001b[0m     \u001b[39mraise\u001b[39;00m \u001b[39mException\u001b[39;00m(\u001b[39m\"\u001b[39m\u001b[39mClass label not found in file\u001b[39m\u001b[39m\"\u001b[39m)\n\u001b[1;32m     61\u001b[0m \u001b[39mif\u001b[39;00m \u001b[39mself\u001b[39m\u001b[39m.\u001b[39mmatch_label \u001b[39mand\u001b[39;00m \u001b[39mnot\u001b[39;00m (\u001b[39mself\u001b[39m\u001b[39m.\u001b[39mmatch_label \u001b[39min\u001b[39;00m \u001b[39mself\u001b[39m\u001b[39m.\u001b[39mdata\u001b[39m.\u001b[39mcolumns):\n\u001b[1;32m     62\u001b[0m     \u001b[39mraise\u001b[39;00m \u001b[39mException\u001b[39;00m(\u001b[39m\"\u001b[39m\u001b[39mMatch label not found in file\u001b[39m\u001b[39m\"\u001b[39m)\n",
      "\u001b[0;31mException\u001b[0m: Class label not found in file"
     ]
    }
   ],
   "source": [
    "cleanrun = OptimizeClean(dataset_name='digen8_4426')\n",
    "cleanrun.run()\n",
    "print(cleanrun.goal)\n",
    "plt.show()"
   ]
  },
  {
   "cell_type": "code",
   "execution_count": null,
   "metadata": {},
   "outputs": [],
   "source": [
    "# autotest = AutoRunner(dataset_names=['digen8_4426'], clean=False, class_label='y', instance_label='InstanceId')"
   ]
  },
  {
   "cell_type": "code",
   "execution_count": null,
   "metadata": {},
   "outputs": [],
   "source": [
    "#output_csv = autotest.run()"
   ]
  },
  {
   "cell_type": "code",
   "execution_count": null,
   "metadata": {},
   "outputs": [],
   "source": [
    "#print(output_csv)\n",
    "\n",
    "#performance = pd.read_csv(output_csv)\n",
    "#print(performance)\n",
    "#print(performance['ROC AUC'].max())\n",
    "#print(performance.loc[performance['ROC AUC'].idxmax()][0])"
   ]
  }
 ],
 "metadata": {
  "kernelspec": {
   "display_name": "AutoTestEnv",
   "language": "python",
   "name": "python3"
  },
  "language_info": {
   "codemirror_mode": {
    "name": "ipython",
    "version": 3
   },
   "file_extension": ".py",
   "mimetype": "text/x-python",
   "name": "python",
   "nbconvert_exporter": "python",
   "pygments_lexer": "ipython3",
   "version": "3.10.5"
  },
  "orig_nbformat": 4
 },
 "nbformat": 4,
 "nbformat_minor": 2
}
