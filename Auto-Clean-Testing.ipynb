{
 "cells": [
  {
   "attachments": {},
   "cell_type": "markdown",
   "metadata": {},
   "source": [
    "Auto-Clean-Test"
   ]
  },
  {
   "cell_type": "code",
   "execution_count": 99,
   "metadata": {},
   "outputs": [],
   "source": [
    "import logging\n",
    "import os\n",
    "import shutil\n",
    "import dill as pickle\n",
    "import pandas as pd\n",
    "\n",
    "from streamline.runners.auto_runner import AutoRunner"
   ]
  },
  {
   "cell_type": "code",
   "execution_count": 100,
   "metadata": {},
   "outputs": [
    {
     "name": "stdout",
     "output_type": "stream",
     "text": [
      "            X0        X1        X2        X3        X4        X5        X6  \\\n",
      "0     1.764052  0.400157  0.978738  2.240893  1.867558 -0.977278  0.950088   \n",
      "1     0.144044  1.454274  0.761038  0.121675  0.443863  0.333674  1.494079   \n",
      "2    -2.552990  0.653619  0.864436 -0.742165  2.269755 -1.454366  0.045759   \n",
      "3     0.154947  0.378163 -0.887786 -1.980796 -0.347912  0.156349  1.230291   \n",
      "4    -1.048553 -1.420018 -1.706270  1.950775 -0.509652 -0.438074 -1.252795   \n",
      "...        ...       ...       ...       ...       ...       ...       ...   \n",
      "9995 -0.030453  1.082681 -0.530580  0.602367 -2.138291 -0.056632  1.166444   \n",
      "9996  2.520830 -0.124884  0.018068 -0.998623 -1.262734 -0.565107 -0.455238   \n",
      "9997 -0.545705  1.696766 -0.508186  0.003621 -1.018515  0.251562 -0.338182   \n",
      "9998 -0.367787 -0.568358 -0.721248  0.198280 -0.217422  0.914757  0.443757   \n",
      "9999  0.428571 -0.164999  0.864963 -0.647662  0.720058 -0.337715 -2.028548   \n",
      "\n",
      "            X7        X8        X9  y  \n",
      "0    -0.151357 -0.103219  0.410599  0  \n",
      "1    -0.205158  0.313068 -0.854096  1  \n",
      "2    -0.187184  1.532779  1.469359  1  \n",
      "3     1.202380 -0.387327 -0.302303  0  \n",
      "4     0.777490 -1.613898 -0.212740  0  \n",
      "...        ...       ...       ... ..  \n",
      "9995 -0.772096 -0.908988 -0.414217  0  \n",
      "9996  0.555727  0.994368 -0.286562  0  \n",
      "9997  1.014143 -0.582528  0.638790  1  \n",
      "9998 -0.306204 -0.949056 -0.448083  1  \n",
      "9999  0.726182 -1.167831 -1.285208  0  \n",
      "\n",
      "[10000 rows x 11 columns]\n"
     ]
    }
   ],
   "source": [
    "with open(\"./data/DigenData/all_new_test_sets.pkl\",'rb') as f:\n",
    "    digennoise = pickle.load(f)\n",
    "\n",
    "#print(digennoise.keys())\n",
    "\n",
    "with open(\"./data/DigenData/all_new_test_sets_no_noise.pkl\",'rb') as f:\n",
    "    digen = pickle.load(f)\n",
    "\n",
    "#print(digen.keys())\n",
    "#print(digen['digen8_4426'])\n",
    "Test= pd.DataFrame(digen['digen8_4426']['X'])\n",
    "yval = pd.DataFrame(digen['digen8_4426']['y'])\n",
    "current_noise = digen['digen8_4426']['noise']\n",
    "yval.columns = ['y']\n",
    "yval.rename(columns = {'0':'y'}, inplace = True)\n",
    "out = pd.concat([Test, yval], axis=1)\n",
    " \n",
    "print(out)"
   ]
  },
  {
   "cell_type": "code",
   "execution_count": 101,
   "metadata": {},
   "outputs": [],
   "source": [
    "#autotest = AutoRunner(dataset_names=['hcc-data_example_custom'], clean=False)"
   ]
  },
  {
   "cell_type": "code",
   "execution_count": 102,
   "metadata": {},
   "outputs": [],
   "source": [
    "#autotest.run()"
   ]
  }
 ],
 "metadata": {
  "kernelspec": {
   "display_name": "AutoTestEnv",
   "language": "python",
   "name": "python3"
  },
  "language_info": {
   "codemirror_mode": {
    "name": "ipython",
    "version": 3
   },
   "file_extension": ".py",
   "mimetype": "text/x-python",
   "name": "python",
   "nbconvert_exporter": "python",
   "pygments_lexer": "ipython3",
   "version": "3.10.5"
  },
  "orig_nbformat": 4
 },
 "nbformat": 4,
 "nbformat_minor": 2
}
