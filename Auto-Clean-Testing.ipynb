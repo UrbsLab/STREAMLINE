{
 "cells": [
  {
   "attachments": {},
   "cell_type": "markdown",
   "metadata": {},
   "source": [
    "Auto-Clean-Test"
   ]
  },
  {
   "cell_type": "code",
   "execution_count": 1,
   "metadata": {},
   "outputs": [
    {
     "name": "stderr",
     "output_type": "stream",
     "text": [
      "/Users/gabrielketron/AutoTest/AutoTestEnv/lib/python3.10/site-packages/tqdm/auto.py:21: TqdmWarning: IProgress not found. Please update jupyter and ipywidgets. See https://ipywidgets.readthedocs.io/en/stable/user_install.html\n",
      "  from .autonotebook import tqdm as notebook_tqdm\n"
     ]
    }
   ],
   "source": [
    "import logging\n",
    "import os\n",
    "import shutil\n",
    "from streamline.runners.auto_runner import AutoRunner"
   ]
  },
  {
   "cell_type": "code",
   "execution_count": 2,
   "metadata": {},
   "outputs": [
    {
     "ename": "type",
     "evalue": "'AutoRunner' object has no attribute 'clean'",
     "output_type": "error",
     "traceback": [
      "\u001b[0;31m---------------------------------------------------------------------------\u001b[0m",
      "\u001b[0;31mAttributeError\u001b[0m                            Traceback (most recent call last)",
      "Cell \u001b[0;32mIn[2], line 1\u001b[0m\n\u001b[0;32m----> 1\u001b[0m autotest \u001b[39m=\u001b[39m AutoRunner(dataset_names\u001b[39m=\u001b[39;49m[\u001b[39m'\u001b[39;49m\u001b[39mhcc-data_example\u001b[39;49m\u001b[39m'\u001b[39;49m], clean\u001b[39m=\u001b[39;49m\u001b[39mFalse\u001b[39;49;00m)\n",
      "File \u001b[0;32m~/AutoTest/STREAMLINE/streamline/runners/auto_runner.py:39\u001b[0m, in \u001b[0;36mAutoRunner.__init__\u001b[0;34m(self, dataset_names, gen_report, clean, data_path, output_path, experiment_name, exploration_list, plot_list, class_label, instance_label, match_label, n_splits, partition_method, ignore_features, categorical_feature_headers, quantitative_feature_headers, top_features, categorical_cutoff, sig_cutoff, featureeng_missingness, cleaning_missingness, correlation_removal_threshold, random_state, run_cluster, queue, reserved_memory, show_plots, impute_scale_data, impute_data, impute_multi_impute, impute_overwrite_cv, do_mutual_info, do_multisurf, instance_subset, algorithms, use_turf, turf_pct, n_jobs, max_features_to_keep, filter_poor_features, export_scores, ml_algorithms, exclude, scoring_metric, metric_direction, training_subsample, use_uniform_fi, n_trials, timeout, do_lcs_sweep, lcs_nu, lcs_n, lcs_iterations, lcs_timeout, resubmit, stats_scale_data, metric_weight, plot_roc, plot_prc, plot_fi_box, plot_metric_boxplots, del_time, del_old_cv, save_plots)\u001b[0m\n\u001b[1;32m     15\u001b[0m \u001b[39mdef\u001b[39;00m \u001b[39m__init__\u001b[39m(\u001b[39mself\u001b[39m, dataset_names, gen_report\u001b[39m=\u001b[39m\u001b[39mTrue\u001b[39;00m, clean\u001b[39m=\u001b[39m\u001b[39mTrue\u001b[39;00m, data_path: \u001b[39mstr\u001b[39m \u001b[39m=\u001b[39m \u001b[39m\"\u001b[39m\u001b[39m./data/DemoData\u001b[39m\u001b[39m\"\u001b[39m, output_path: \u001b[39mstr\u001b[39m\u001b[39m=\u001b[39m\u001b[39m\"\u001b[39m\u001b[39m./DemoOutput\u001b[39m\u001b[39m\"\u001b[39m,\n\u001b[1;32m     16\u001b[0m             experiment_name: \u001b[39mstr\u001b[39m\u001b[39m=\u001b[39m\u001b[39m'\u001b[39m\u001b[39mdemo_experiment\u001b[39m\u001b[39m'\u001b[39m, exploration_list: \u001b[39mlist\u001b[39m\u001b[39m=\u001b[39m[\u001b[39m\"\u001b[39m\u001b[39mDescribe\u001b[39m\u001b[39m\"\u001b[39m, \u001b[39m\"\u001b[39m\u001b[39mUnivariate Analysis\u001b[39m\u001b[39m\"\u001b[39m,\u001b[39m\"\u001b[39m\u001b[39mDifferentiate\u001b[39m\u001b[39m\"\u001b[39m, \u001b[39m\"\u001b[39m\u001b[39mFeature Correlation\u001b[39m\u001b[39m\"\u001b[39m],\n\u001b[1;32m     17\u001b[0m             plot_list: \u001b[39mlist\u001b[39m\u001b[39m=\u001b[39m[\u001b[39m\"\u001b[39m\u001b[39mDescribe\u001b[39m\u001b[39m\"\u001b[39m, \u001b[39m\"\u001b[39m\u001b[39mUnivariate Analysis\u001b[39m\u001b[39m\"\u001b[39m, \u001b[39m\"\u001b[39m\u001b[39mFeature Correlation\u001b[39m\u001b[39m\"\u001b[39m],\n\u001b[0;32m   (...)\u001b[0m\n\u001b[1;32m     36\u001b[0m \n\u001b[1;32m     37\u001b[0m     \u001b[39m#Dataprocess_runner \u001b[39;00m\n\u001b[1;32m     38\u001b[0m     \u001b[39mself\u001b[39m\u001b[39m.\u001b[39mgen_report \u001b[39m=\u001b[39m gen_report\n\u001b[0;32m---> 39\u001b[0m     \u001b[39mself\u001b[39;49m\u001b[39m.\u001b[39;49mclean\n\u001b[1;32m     40\u001b[0m     \u001b[39mself\u001b[39m\u001b[39m.\u001b[39mdel_time \u001b[39m=\u001b[39m del_time\n\u001b[1;32m     41\u001b[0m     \u001b[39mself\u001b[39m\u001b[39m.\u001b[39mdel_old_cv \u001b[39m=\u001b[39m del_old_cv\n",
      "\u001b[0;31mAttributeError\u001b[0m: 'AutoRunner' object has no attribute 'clean'"
     ]
    }
   ],
   "source": [
    "autotest = AutoRunner(dataset_names=['hcc-data_example'], clean=False)"
   ]
  },
  {
   "cell_type": "code",
   "execution_count": null,
   "metadata": {},
   "outputs": [],
   "source": [
    "autotest.run()"
   ]
  }
 ],
 "metadata": {
  "kernelspec": {
   "display_name": "AutoTestEnv",
   "language": "python",
   "name": "python3"
  },
  "language_info": {
   "codemirror_mode": {
    "name": "ipython",
    "version": 3
   },
   "file_extension": ".py",
   "mimetype": "text/x-python",
   "name": "python",
   "nbconvert_exporter": "python",
   "pygments_lexer": "ipython3",
   "version": "3.10.5"
  },
  "orig_nbformat": 4
 },
 "nbformat": 4,
 "nbformat_minor": 2
}
