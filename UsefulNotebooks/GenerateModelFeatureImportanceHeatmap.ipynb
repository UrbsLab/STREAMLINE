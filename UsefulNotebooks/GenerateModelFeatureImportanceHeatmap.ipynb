{
 "cells": [
  {
   "cell_type": "markdown",
   "metadata": {},
   "source": [
    "# Generates a Feature Importance Rank Heatmap (for STREAMLINE)\n",
    "Takes the feature importance scores from each model and generates a feature importance 'rank' heatmap across all algorithms for the target datasets. These are output as an interactive html visualization using bokeh.\n",
    "\n",
    "This notebook requires additional installation of the bokeh package: \n",
    "\n",
    "pip install bokeh\n",
    "\n",
    "This code for this visualization was written provided by Sy Hwang in September of 2021.\n"
   ]
  },
  {
   "cell_type": "markdown",
   "metadata": {},
   "source": [
    "## Import Required Packages"
   ]
  },
  {
   "cell_type": "code",
   "execution_count": 1,
   "metadata": {},
   "outputs": [],
   "source": [
    "\n",
    "import pandas as pd\n",
    "pd.set_option('display.max_rows', None)\n",
    "import os\n",
    "\n",
    "from bokeh.io import output_file, save, export_png\n",
    "from bokeh.models import (BasicTicker, ColorBar, ColumnDataSource,\n",
    "                          ContinuousColorMapper, LinearColorMapper, HoverTool)\n",
    "from bokeh.plotting import figure\n",
    "from bokeh.transform import transform\n",
    "from bokeh.palettes import Cividis256\n",
    "import pickle\n",
    "\n",
    "import warnings\n",
    "warnings.filterwarnings('ignore')\n",
    "\n",
    "# Jupyter Notebook Hack: This code ensures that the results of multiple commands within a given cell are all displayed, rather than just the last. \n",
    "from IPython.core.interactiveshell import InteractiveShell\n",
    "InteractiveShell.ast_node_interactivity = \"all\""
   ]
  },
  {
   "cell_type": "markdown",
   "metadata": {},
   "source": [
    "## Set Run Parameters"
   ]
  },
  {
   "cell_type": "code",
   "execution_count": 2,
   "metadata": {},
   "outputs": [],
   "source": [
    "experiment_path = \"C:/Users/ryanu/Documents/Analysis/STREAMLINE_Experiments/hcc_demo\"\n",
    "targetDataName = 'None' # 'None' if user wants to generate visualizations for all analyzed datasets\n",
    "algorithms = [] #use empty list if user wishes re-evaluate all modeling algorithms that were run in pipeline."
   ]
  },
  {
   "cell_type": "code",
   "execution_count": 3,
   "metadata": {},
   "outputs": [
    {
     "name": "stdout",
     "output_type": "stream",
     "text": [
      "['Naive Bayes', 'Logistic Regression', 'Decision Tree']\n"
     ]
    }
   ],
   "source": [
    "#Unpickle metadata from previous phase\n",
    "file = open(experiment_path+'/'+\"metadata.pickle\", 'rb')\n",
    "metadata = pickle.load(file)\n",
    "file.close()\n",
    "#Load variables specified earlier in the pipeline from metadata\n",
    "do_NB = metadata['Naive Bayes']\n",
    "do_LR = metadata['Logistic Regression']\n",
    "do_DT = metadata['Decision Tree']\n",
    "do_RF = metadata['Random Forest']\n",
    "do_GB = metadata['Gradient Boosting']\n",
    "do_XGB = metadata['Extreme Gradient Boosting']\n",
    "do_LGB = metadata['Light Gradient Boosting']\n",
    "do_SVM = metadata['Support Vector Machine']\n",
    "do_ANN = metadata['Artificial Neural Network']\n",
    "do_KNN = metadata['K-Nearest Neightbors']\n",
    "do_eLCS = metadata['eLCS']\n",
    "do_XCS = metadata['XCS']\n",
    "do_ExSTraCS = metadata['ExSTraCS']\n",
    "\n",
    "#Unpickle algorithm information from previous phase\n",
    "file = open(experiment_path+'/'+\"algInfo.pickle\", 'rb')\n",
    "algInfo = pickle.load(file)\n",
    "file.close()\n",
    "algorithms = []\n",
    "abbrev = {}\n",
    "for key in algInfo:\n",
    "    if algInfo[key][0]: # If that algorithm was used\n",
    "        algorithms.append(key)\n",
    "        abbrev[key] = (algInfo[key][1])\n",
    "        \n",
    "print(algorithms)"
   ]
  },
  {
   "cell_type": "markdown",
   "metadata": {},
   "source": [
    "## Automatically Detect Dataset Names"
   ]
  },
  {
   "cell_type": "code",
   "execution_count": 4,
   "metadata": {},
   "outputs": [
    {
     "name": "stdout",
     "output_type": "stream",
     "text": [
      "Analyzed Datasets: ['hcc-data_example', 'hcc-data_example_no_covariates']\n"
     ]
    }
   ],
   "source": [
    "# Get dataset paths for all completed dataset analyses in experiment folder\n",
    "datasets = os.listdir(experiment_path)\n",
    "experiment_name = experiment_path.split('/')[-1] #Name of experiment folder\n",
    "datasets.remove('metadata.csv')\n",
    "datasets.remove('metadata.pickle')\n",
    "datasets.remove('algInfo.pickle')\n",
    "try:\n",
    "    datasets.remove('jobsCompleted')\n",
    "except:\n",
    "    pass\n",
    "try:\n",
    "    datasets.remove('UsefulNotebooks')\n",
    "except:\n",
    "    pass\n",
    "try:\n",
    "    datasets.remove('logs')\n",
    "    datasets.remove('jobs')\n",
    "except:\n",
    "    pass\n",
    "try:\n",
    "    datasets.remove('DatasetComparisons') #If it has been run previously (overwrite)\n",
    "except:\n",
    "    pass\n",
    "try:\n",
    "    datasets.remove('KeyFileCopy') #If it has been run previously (overwrite)\n",
    "except:\n",
    "    pass\n",
    "try:\n",
    "    datasets.remove(experiment_name+'_ML_Pipeline_Report.pdf') #If it has been run previously (overwrite)\n",
    "except:\n",
    "    pass\n",
    "datasets = sorted(datasets) #ensures consistent ordering of datasets\n",
    "print(\"Analyzed Datasets: \"+str(datasets))"
   ]
  },
  {
   "cell_type": "code",
   "execution_count": 5,
   "metadata": {},
   "outputs": [
    {
     "name": "stdout",
     "output_type": "stream",
     "text": [
      "---------------------------------------\n",
      "hcc-data_example\n",
      "---------------------------------------\n"
     ]
    },
    {
     "data": {
      "text/html": [
       "<div style=\"display: table;\"><div style=\"display: table-row;\"><div style=\"display: table-cell;\"><b title=\"bokeh.models.renderers.GlyphRenderer\">GlyphRenderer</b>(</div><div style=\"display: table-cell;\">id&nbsp;=&nbsp;'1030', <span id=\"1033\" style=\"cursor: pointer;\">&hellip;)</span></div></div><div class=\"1032\" style=\"display: none;\"><div style=\"display: table-cell;\"></div><div style=\"display: table-cell;\">data_source&nbsp;=&nbsp;ColumnDataSource(id='1001', ...),</div></div><div class=\"1032\" style=\"display: none;\"><div style=\"display: table-cell;\"></div><div style=\"display: table-cell;\">glyph&nbsp;=&nbsp;Rect(id='1028', ...),</div></div><div class=\"1032\" style=\"display: none;\"><div style=\"display: table-cell;\"></div><div style=\"display: table-cell;\">hover_glyph&nbsp;=&nbsp;None,</div></div><div class=\"1032\" style=\"display: none;\"><div style=\"display: table-cell;\"></div><div style=\"display: table-cell;\">js_event_callbacks&nbsp;=&nbsp;{},</div></div><div class=\"1032\" style=\"display: none;\"><div style=\"display: table-cell;\"></div><div style=\"display: table-cell;\">js_property_callbacks&nbsp;=&nbsp;{},</div></div><div class=\"1032\" style=\"display: none;\"><div style=\"display: table-cell;\"></div><div style=\"display: table-cell;\">level&nbsp;=&nbsp;'glyph',</div></div><div class=\"1032\" style=\"display: none;\"><div style=\"display: table-cell;\"></div><div style=\"display: table-cell;\">muted&nbsp;=&nbsp;False,</div></div><div class=\"1032\" style=\"display: none;\"><div style=\"display: table-cell;\"></div><div style=\"display: table-cell;\">muted_glyph&nbsp;=&nbsp;None,</div></div><div class=\"1032\" style=\"display: none;\"><div style=\"display: table-cell;\"></div><div style=\"display: table-cell;\">name&nbsp;=&nbsp;None,</div></div><div class=\"1032\" style=\"display: none;\"><div style=\"display: table-cell;\"></div><div style=\"display: table-cell;\">nonselection_glyph&nbsp;=&nbsp;Rect(id='1029', ...),</div></div><div class=\"1032\" style=\"display: none;\"><div style=\"display: table-cell;\"></div><div style=\"display: table-cell;\">selection_glyph&nbsp;=&nbsp;None,</div></div><div class=\"1032\" style=\"display: none;\"><div style=\"display: table-cell;\"></div><div style=\"display: table-cell;\">subscribed_events&nbsp;=&nbsp;[],</div></div><div class=\"1032\" style=\"display: none;\"><div style=\"display: table-cell;\"></div><div style=\"display: table-cell;\">tags&nbsp;=&nbsp;[],</div></div><div class=\"1032\" style=\"display: none;\"><div style=\"display: table-cell;\"></div><div style=\"display: table-cell;\">view&nbsp;=&nbsp;CDSView(id='1031', ...),</div></div><div class=\"1032\" style=\"display: none;\"><div style=\"display: table-cell;\"></div><div style=\"display: table-cell;\">visible&nbsp;=&nbsp;True,</div></div><div class=\"1032\" style=\"display: none;\"><div style=\"display: table-cell;\"></div><div style=\"display: table-cell;\">x_range_name&nbsp;=&nbsp;'default',</div></div><div class=\"1032\" style=\"display: none;\"><div style=\"display: table-cell;\"></div><div style=\"display: table-cell;\">y_range_name&nbsp;=&nbsp;'default')</div></div></div>\n",
       "<script>\n",
       "(function() {\n",
       "  var expanded = false;\n",
       "  var ellipsis = document.getElementById(\"1033\");\n",
       "  ellipsis.addEventListener(\"click\", function() {\n",
       "    var rows = document.getElementsByClassName(\"1032\");\n",
       "    for (var i = 0; i < rows.length; i++) {\n",
       "      var el = rows[i];\n",
       "      el.style.display = expanded ? \"none\" : \"table-row\";\n",
       "    }\n",
       "    ellipsis.innerHTML = expanded ? \"&hellip;)\" : \"&lsaquo;&lsaquo;&lsaquo;\";\n",
       "    expanded = !expanded;\n",
       "  });\n",
       "})();\n",
       "</script>\n"
      ],
      "text/plain": [
       "GlyphRenderer(id='1030', ...)"
      ]
     },
     "execution_count": 5,
     "metadata": {},
     "output_type": "execute_result"
    },
    {
     "data": {
      "text/plain": [
       "'C:\\\\Users\\\\ryanu\\\\Documents\\\\Analysis\\\\STREAMLINE_Experiments\\\\hcc_demo\\\\hcc-data_example\\\\model_evaluation\\\\feature_importance\\\\FI_Rank_Heatmap.html'"
      ]
     },
     "execution_count": 5,
     "metadata": {},
     "output_type": "execute_result"
    },
    {
     "name": "stdout",
     "output_type": "stream",
     "text": [
      "---------------------------------------\n",
      "hcc-data_example_no_covariates\n",
      "---------------------------------------\n"
     ]
    },
    {
     "data": {
      "text/html": [
       "<div style=\"display: table;\"><div style=\"display: table-row;\"><div style=\"display: table-cell;\"><b title=\"bokeh.models.renderers.GlyphRenderer\">GlyphRenderer</b>(</div><div style=\"display: table-cell;\">id&nbsp;=&nbsp;'1136', <span id=\"1139\" style=\"cursor: pointer;\">&hellip;)</span></div></div><div class=\"1138\" style=\"display: none;\"><div style=\"display: table-cell;\"></div><div style=\"display: table-cell;\">data_source&nbsp;=&nbsp;ColumnDataSource(id='1107', ...),</div></div><div class=\"1138\" style=\"display: none;\"><div style=\"display: table-cell;\"></div><div style=\"display: table-cell;\">glyph&nbsp;=&nbsp;Rect(id='1134', ...),</div></div><div class=\"1138\" style=\"display: none;\"><div style=\"display: table-cell;\"></div><div style=\"display: table-cell;\">hover_glyph&nbsp;=&nbsp;None,</div></div><div class=\"1138\" style=\"display: none;\"><div style=\"display: table-cell;\"></div><div style=\"display: table-cell;\">js_event_callbacks&nbsp;=&nbsp;{},</div></div><div class=\"1138\" style=\"display: none;\"><div style=\"display: table-cell;\"></div><div style=\"display: table-cell;\">js_property_callbacks&nbsp;=&nbsp;{},</div></div><div class=\"1138\" style=\"display: none;\"><div style=\"display: table-cell;\"></div><div style=\"display: table-cell;\">level&nbsp;=&nbsp;'glyph',</div></div><div class=\"1138\" style=\"display: none;\"><div style=\"display: table-cell;\"></div><div style=\"display: table-cell;\">muted&nbsp;=&nbsp;False,</div></div><div class=\"1138\" style=\"display: none;\"><div style=\"display: table-cell;\"></div><div style=\"display: table-cell;\">muted_glyph&nbsp;=&nbsp;None,</div></div><div class=\"1138\" style=\"display: none;\"><div style=\"display: table-cell;\"></div><div style=\"display: table-cell;\">name&nbsp;=&nbsp;None,</div></div><div class=\"1138\" style=\"display: none;\"><div style=\"display: table-cell;\"></div><div style=\"display: table-cell;\">nonselection_glyph&nbsp;=&nbsp;Rect(id='1135', ...),</div></div><div class=\"1138\" style=\"display: none;\"><div style=\"display: table-cell;\"></div><div style=\"display: table-cell;\">selection_glyph&nbsp;=&nbsp;None,</div></div><div class=\"1138\" style=\"display: none;\"><div style=\"display: table-cell;\"></div><div style=\"display: table-cell;\">subscribed_events&nbsp;=&nbsp;[],</div></div><div class=\"1138\" style=\"display: none;\"><div style=\"display: table-cell;\"></div><div style=\"display: table-cell;\">tags&nbsp;=&nbsp;[],</div></div><div class=\"1138\" style=\"display: none;\"><div style=\"display: table-cell;\"></div><div style=\"display: table-cell;\">view&nbsp;=&nbsp;CDSView(id='1137', ...),</div></div><div class=\"1138\" style=\"display: none;\"><div style=\"display: table-cell;\"></div><div style=\"display: table-cell;\">visible&nbsp;=&nbsp;True,</div></div><div class=\"1138\" style=\"display: none;\"><div style=\"display: table-cell;\"></div><div style=\"display: table-cell;\">x_range_name&nbsp;=&nbsp;'default',</div></div><div class=\"1138\" style=\"display: none;\"><div style=\"display: table-cell;\"></div><div style=\"display: table-cell;\">y_range_name&nbsp;=&nbsp;'default')</div></div></div>\n",
       "<script>\n",
       "(function() {\n",
       "  var expanded = false;\n",
       "  var ellipsis = document.getElementById(\"1139\");\n",
       "  ellipsis.addEventListener(\"click\", function() {\n",
       "    var rows = document.getElementsByClassName(\"1138\");\n",
       "    for (var i = 0; i < rows.length; i++) {\n",
       "      var el = rows[i];\n",
       "      el.style.display = expanded ? \"none\" : \"table-row\";\n",
       "    }\n",
       "    ellipsis.innerHTML = expanded ? \"&hellip;)\" : \"&lsaquo;&lsaquo;&lsaquo;\";\n",
       "    expanded = !expanded;\n",
       "  });\n",
       "})();\n",
       "</script>\n"
      ],
      "text/plain": [
       "GlyphRenderer(id='1136', ...)"
      ]
     },
     "execution_count": 5,
     "metadata": {},
     "output_type": "execute_result"
    },
    {
     "data": {
      "text/plain": [
       "'C:\\\\Users\\\\ryanu\\\\Documents\\\\Analysis\\\\STREAMLINE_Experiments\\\\hcc_demo\\\\hcc-data_example_no_covariates\\\\model_evaluation\\\\feature_importance\\\\FI_Rank_Heatmap.html'"
      ]
     },
     "execution_count": 5,
     "metadata": {},
     "output_type": "execute_result"
    }
   ],
   "source": [
    "if not targetDataName == 'None': # User specified one analyzed dataset above (if more than one were analyzed)\n",
    "    for each in datasets:\n",
    "        if not each == targetDataName:\n",
    "            datasets.remove(each)\n",
    "    print(\"Vizualized Datasets: \"+str(datasets))\n",
    "\n",
    "for each in datasets: \n",
    "    print(\"---------------------------------------\")\n",
    "    print(each)\n",
    "    print(\"---------------------------------------\")\n",
    "    full_path = experiment_path+'/'+each\n",
    "\n",
    "    series = list()\n",
    "    feats = None\n",
    "    for algorithm in algorithms:\n",
    "        filename = full_path+'/model_evaluation/feature_importance/'+abbrev[algorithm]+'_FI.csv'\n",
    "        df = pd.read_csv(filename)\n",
    "        if not feats:\n",
    "            feats = df.abs().mean().keys().to_list()\n",
    "            series.append(pd.Series(feats, name='feats'))\n",
    "        fi_avgrank = df.abs().mean().rank(ascending=False).values\n",
    "        series.append(pd.Series(fi_avgrank, name=algorithm.partition('_')[0]))\n",
    "\n",
    "    finaldf = pd.concat(series, axis=1).set_index('feats')\n",
    "    finaldf['MeanRank'] = finaldf.mean(axis=1)\n",
    "    finaldf.sort_values(by='MeanRank', inplace=True)\n",
    "    finaldf.columns.name = 'algos'\n",
    "    inputdf = pd.DataFrame(finaldf.stack(), columns=['ranked']).reset_index()\n",
    "\n",
    "\n",
    "    source = ColumnDataSource(inputdf)\n",
    "    mapper = LinearColorMapper(palette=Cividis256, low=inputdf.ranked.min(), high=inputdf.ranked.max())\n",
    "\n",
    "    tools=[\"wheel_zoom\", \"pan\", \"reset\"]\n",
    "    p = figure(plot_width=900,\n",
    "                plot_height=1600,\n",
    "                title=\"FI Heatmap (All Variables)\",\n",
    "                x_range=list(finaldf.columns),\n",
    "                y_range=list(reversed(finaldf.index)),\n",
    "                tools=tools,\n",
    "                toolbar_location='left',\n",
    "                x_axis_location=\"above\"\n",
    "                )\n",
    "    p.rect(x=\"algos\",\n",
    "            y=\"feats\",\n",
    "            width=1,\n",
    "            height=1,\n",
    "            source=source,\n",
    "            line_color=\"white\",\n",
    "            fill_color={\"field\":\"ranked\", \"transform\": mapper},\n",
    "            )\n",
    "    tooltips = [(\"algo\", \"@algos\"),\n",
    "                (\"feature\", \"@feats\"),\n",
    "                (\"rank\", \"@ranked\")]\n",
    "\n",
    "    hover = HoverTool(tooltips = tooltips)\n",
    "    p.add_tools(hover)\n",
    "    p.axis.axis_line_color = None\n",
    "    p.axis.major_tick_line_color = None\n",
    "    p.axis.major_label_text_font_size = \"14px\"\n",
    "    p.title.text_font_size = '24px'\n",
    "    p.axis.major_label_standoff = 0\n",
    "    p.xaxis.major_label_orientation = 1.0\n",
    "\n",
    "    output_file(full_path+'/model_evaluation/feature_importance/'+'FI_Rank_Heatmap.html')\n",
    "    save(p)\n",
    " "
   ]
  },
  {
   "cell_type": "code",
   "execution_count": null,
   "metadata": {},
   "outputs": [],
   "source": []
  }
 ],
 "metadata": {
  "interpreter": {
   "hash": "1a12a98ae265c92e0b59419562a28d4a83daa07b99af1da9cec83ddf5b471690"
  },
  "kernelspec": {
   "display_name": "Python 3",
   "language": "python",
   "name": "python3"
  },
  "language_info": {
   "codemirror_mode": {
    "name": "ipython",
    "version": 3
   },
   "file_extension": ".py",
   "mimetype": "text/x-python",
   "name": "python",
   "nbconvert_exporter": "python",
   "pygments_lexer": "ipython3",
   "version": "3.8.5"
  }
 },
 "nbformat": 4,
 "nbformat_minor": 2
}
