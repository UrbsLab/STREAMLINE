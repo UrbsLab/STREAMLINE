{
 "cells": [
  {
   "cell_type": "markdown",
   "metadata": {},
   "source": [
    "# Generates a Feature Importance Rank Heatmap (for STREAMLINE)\n",
    "Takes the feature importance scores from each model and generates a feature importance 'rank' heatmap across all algorithms for the target datasets. These are output as an interactive html visualization using bokeh.\n",
    "\n",
    "This notebook requires additional installation of the bokeh package: \n",
    "\n",
    "pip install bokeh\n",
    "\n",
    "This code for this visualization was written provided by Sy Hwang in September of 2021.\n"
   ]
  },
  {
   "cell_type": "markdown",
   "metadata": {},
   "source": [
    "## Import Required Packages"
   ]
  },
  {
   "cell_type": "code",
   "execution_count": 1,
   "metadata": {},
   "outputs": [],
   "source": [
    "import pandas as pd\n",
    "pd.set_option('display.max_rows', None)\n",
    "import os\n",
    "\n",
    "from bokeh.io import output_file, save, export_png\n",
    "from bokeh.models import (BasicTicker, ColorBar, ColumnDataSource,\n",
    "                          ContinuousColorMapper, LinearColorMapper, HoverTool)\n",
    "from bokeh.plotting import figure\n",
    "from bokeh.transform import transform\n",
    "from bokeh.palettes import Cividis256\n",
    "import pickle\n",
    "\n",
    "import warnings\n",
    "warnings.filterwarnings('ignore')\n",
    "\n",
    "# Jupyter Notebook Hack: This code ensures that the results of multiple commands within a given cell are all displayed, rather than just the last. \n",
    "from IPython.core.interactiveshell import InteractiveShell\n",
    "InteractiveShell.ast_node_interactivity = \"all\""
   ]
  },
  {
   "cell_type": "markdown",
   "metadata": {},
   "source": [
    "## Set Run Parameters"
   ]
  },
  {
   "cell_type": "code",
   "execution_count": 2,
   "metadata": {},
   "outputs": [],
   "source": [
    "experiment_path = \"../DemoOutput/demo_experiment\"\n",
    "targetDataName = None # 'None' if user wants to generate visualizations for all analyzed datasets\n",
    "algorithms = [] #use empty list if user wishes re-evaluate all modeling algorithms that were run in pipeline."
   ]
  },
  {
   "cell_type": "code",
   "execution_count": 3,
   "metadata": {},
   "outputs": [
    {
     "name": "stdout",
     "output_type": "stream",
     "text": [
      "Algorithms Ran: ['Logistic Regression', 'Naive Bayes', 'Decision Tree']\n"
     ]
    }
   ],
   "source": [
    "# Unpickle metadata from previous phase\n",
    "file = open(experiment_path+'/'+\"metadata.pickle\", 'rb')\n",
    "metadata = pickle.load(file)\n",
    "file.close()\n",
    "# Load variables specified earlier in the pipeline from metadata\n",
    "\n",
    "#Unpickle algorithm information from previous phase\n",
    "file = open(experiment_path+'/'+\"algInfo.pickle\", 'rb')\n",
    "algInfo = pickle.load(file)\n",
    "file.close()\n",
    "algorithms = []\n",
    "abbrev = {}\n",
    "for key in algInfo:\n",
    "    if algInfo[key][0]: # If that algorithm was used\n",
    "        algorithms.append(key)\n",
    "        abbrev[key] = (algInfo[key][1])\n",
    "        \n",
    "print(\"Algorithms Ran: \" + str(algorithms))"
   ]
  },
  {
   "cell_type": "markdown",
   "metadata": {},
   "source": [
    "## Automatically Detect Dataset Names"
   ]
  },
  {
   "cell_type": "code",
   "execution_count": 4,
   "metadata": {},
   "outputs": [
    {
     "name": "stdout",
     "output_type": "stream",
     "text": [
      "Analyzed Datasets: ['hcc-data_example', 'hcc-data_example_custom']\n"
     ]
    }
   ],
   "source": [
    "# Get dataset paths for all completed dataset analyses in experiment folder\n",
    "datasets = os.listdir(experiment_path)\n",
    "\n",
    "# Name of experiment folder\n",
    "experiment_name = experiment_path.split('/')[-1] \n",
    "\n",
    "datasets = os.listdir(experiment_path)\n",
    "remove_list = ['.DS_Store', 'metadata.pickle', 'metadata.csv', 'algInfo.pickle',\n",
    "                'DatasetComparisons', 'jobs', 'jobsCompleted', 'logs',\n",
    "                'KeyFileCopy', 'dask_logs',\n",
    "                experiment_name + '_ML_Pipeline_Report.pdf']\n",
    "for text in remove_list:\n",
    "    if text in datasets:\n",
    "        datasets.remove(text)\n",
    "\n",
    "datasets = sorted(datasets) # ensures consistent ordering of datasets\n",
    "print(\"Analyzed Datasets: \" + str(datasets))"
   ]
  },
  {
   "cell_type": "code",
   "execution_count": 5,
   "metadata": {},
   "outputs": [
    {
     "name": "stdout",
     "output_type": "stream",
     "text": [
      "Vizualized Datasets: ['hcc-data_example', 'hcc-data_example_custom']\n",
      "---------------------------------------\n",
      "hcc-data_example\n",
      "---------------------------------------\n"
     ]
    },
    {
     "data": {
      "text/html": [
       "<div style=\"display: table;\"><div style=\"display: table-row;\"><div style=\"display: table-cell;\"><b title=\"bokeh.models.renderers.GlyphRenderer\">GlyphRenderer</b>(</div><div style=\"display: table-cell;\">id&nbsp;=&nbsp;'1032', <span id=\"1035\" style=\"cursor: pointer;\">&hellip;)</span></div></div><div class=\"1034\" style=\"display: none;\"><div style=\"display: table-cell;\"></div><div style=\"display: table-cell;\">coordinates&nbsp;=&nbsp;None,</div></div><div class=\"1034\" style=\"display: none;\"><div style=\"display: table-cell;\"></div><div style=\"display: table-cell;\">data_source&nbsp;=&nbsp;ColumnDataSource(id='1002', ...),</div></div><div class=\"1034\" style=\"display: none;\"><div style=\"display: table-cell;\"></div><div style=\"display: table-cell;\">glyph&nbsp;=&nbsp;Rect(id='1029', ...),</div></div><div class=\"1034\" style=\"display: none;\"><div style=\"display: table-cell;\"></div><div style=\"display: table-cell;\">group&nbsp;=&nbsp;None,</div></div><div class=\"1034\" style=\"display: none;\"><div style=\"display: table-cell;\"></div><div style=\"display: table-cell;\">hover_glyph&nbsp;=&nbsp;None,</div></div><div class=\"1034\" style=\"display: none;\"><div style=\"display: table-cell;\"></div><div style=\"display: table-cell;\">js_event_callbacks&nbsp;=&nbsp;{},</div></div><div class=\"1034\" style=\"display: none;\"><div style=\"display: table-cell;\"></div><div style=\"display: table-cell;\">js_property_callbacks&nbsp;=&nbsp;{},</div></div><div class=\"1034\" style=\"display: none;\"><div style=\"display: table-cell;\"></div><div style=\"display: table-cell;\">level&nbsp;=&nbsp;'glyph',</div></div><div class=\"1034\" style=\"display: none;\"><div style=\"display: table-cell;\"></div><div style=\"display: table-cell;\">muted&nbsp;=&nbsp;False,</div></div><div class=\"1034\" style=\"display: none;\"><div style=\"display: table-cell;\"></div><div style=\"display: table-cell;\">muted_glyph&nbsp;=&nbsp;Rect(id='1031', ...),</div></div><div class=\"1034\" style=\"display: none;\"><div style=\"display: table-cell;\"></div><div style=\"display: table-cell;\">name&nbsp;=&nbsp;None,</div></div><div class=\"1034\" style=\"display: none;\"><div style=\"display: table-cell;\"></div><div style=\"display: table-cell;\">nonselection_glyph&nbsp;=&nbsp;Rect(id='1030', ...),</div></div><div class=\"1034\" style=\"display: none;\"><div style=\"display: table-cell;\"></div><div style=\"display: table-cell;\">selection_glyph&nbsp;=&nbsp;'auto',</div></div><div class=\"1034\" style=\"display: none;\"><div style=\"display: table-cell;\"></div><div style=\"display: table-cell;\">subscribed_events&nbsp;=&nbsp;[],</div></div><div class=\"1034\" style=\"display: none;\"><div style=\"display: table-cell;\"></div><div style=\"display: table-cell;\">syncable&nbsp;=&nbsp;True,</div></div><div class=\"1034\" style=\"display: none;\"><div style=\"display: table-cell;\"></div><div style=\"display: table-cell;\">tags&nbsp;=&nbsp;[],</div></div><div class=\"1034\" style=\"display: none;\"><div style=\"display: table-cell;\"></div><div style=\"display: table-cell;\">view&nbsp;=&nbsp;CDSView(id='1033', ...),</div></div><div class=\"1034\" style=\"display: none;\"><div style=\"display: table-cell;\"></div><div style=\"display: table-cell;\">visible&nbsp;=&nbsp;True,</div></div><div class=\"1034\" style=\"display: none;\"><div style=\"display: table-cell;\"></div><div style=\"display: table-cell;\">x_range_name&nbsp;=&nbsp;'default',</div></div><div class=\"1034\" style=\"display: none;\"><div style=\"display: table-cell;\"></div><div style=\"display: table-cell;\">y_range_name&nbsp;=&nbsp;'default')</div></div></div>\n",
       "<script>\n",
       "(function() {\n",
       "  let expanded = false;\n",
       "  const ellipsis = document.getElementById(\"1035\");\n",
       "  ellipsis.addEventListener(\"click\", function() {\n",
       "    const rows = document.getElementsByClassName(\"1034\");\n",
       "    for (let i = 0; i < rows.length; i++) {\n",
       "      const el = rows[i];\n",
       "      el.style.display = expanded ? \"none\" : \"table-row\";\n",
       "    }\n",
       "    ellipsis.innerHTML = expanded ? \"&hellip;)\" : \"&lsaquo;&lsaquo;&lsaquo;\";\n",
       "    expanded = !expanded;\n",
       "  });\n",
       "})();\n",
       "</script>\n"
      ],
      "text/plain": [
       "GlyphRenderer(id='1032', ...)"
      ]
     },
     "execution_count": 5,
     "metadata": {},
     "output_type": "execute_result"
    },
    {
     "data": {
      "text/plain": [
       "'/Users/harshbandhey/Local/Cedars/Urbslab/STREAMLINE/DemoOutput/demo_experiment/hcc-data_example/model_evaluation/feature_importance/FI_Rank_Heatmap.html'"
      ]
     },
     "execution_count": 5,
     "metadata": {},
     "output_type": "execute_result"
    },
    {
     "name": "stdout",
     "output_type": "stream",
     "text": [
      "---------------------------------------\n",
      "hcc-data_example_custom\n",
      "---------------------------------------\n"
     ]
    },
    {
     "data": {
      "text/html": [
       "<div style=\"display: table;\"><div style=\"display: table-row;\"><div style=\"display: table-cell;\"><b title=\"bokeh.models.renderers.GlyphRenderer\">GlyphRenderer</b>(</div><div style=\"display: table-cell;\">id&nbsp;=&nbsp;'1186', <span id=\"1189\" style=\"cursor: pointer;\">&hellip;)</span></div></div><div class=\"1188\" style=\"display: none;\"><div style=\"display: table-cell;\"></div><div style=\"display: table-cell;\">coordinates&nbsp;=&nbsp;None,</div></div><div class=\"1188\" style=\"display: none;\"><div style=\"display: table-cell;\"></div><div style=\"display: table-cell;\">data_source&nbsp;=&nbsp;ColumnDataSource(id='1156', ...),</div></div><div class=\"1188\" style=\"display: none;\"><div style=\"display: table-cell;\"></div><div style=\"display: table-cell;\">glyph&nbsp;=&nbsp;Rect(id='1183', ...),</div></div><div class=\"1188\" style=\"display: none;\"><div style=\"display: table-cell;\"></div><div style=\"display: table-cell;\">group&nbsp;=&nbsp;None,</div></div><div class=\"1188\" style=\"display: none;\"><div style=\"display: table-cell;\"></div><div style=\"display: table-cell;\">hover_glyph&nbsp;=&nbsp;None,</div></div><div class=\"1188\" style=\"display: none;\"><div style=\"display: table-cell;\"></div><div style=\"display: table-cell;\">js_event_callbacks&nbsp;=&nbsp;{},</div></div><div class=\"1188\" style=\"display: none;\"><div style=\"display: table-cell;\"></div><div style=\"display: table-cell;\">js_property_callbacks&nbsp;=&nbsp;{},</div></div><div class=\"1188\" style=\"display: none;\"><div style=\"display: table-cell;\"></div><div style=\"display: table-cell;\">level&nbsp;=&nbsp;'glyph',</div></div><div class=\"1188\" style=\"display: none;\"><div style=\"display: table-cell;\"></div><div style=\"display: table-cell;\">muted&nbsp;=&nbsp;False,</div></div><div class=\"1188\" style=\"display: none;\"><div style=\"display: table-cell;\"></div><div style=\"display: table-cell;\">muted_glyph&nbsp;=&nbsp;Rect(id='1185', ...),</div></div><div class=\"1188\" style=\"display: none;\"><div style=\"display: table-cell;\"></div><div style=\"display: table-cell;\">name&nbsp;=&nbsp;None,</div></div><div class=\"1188\" style=\"display: none;\"><div style=\"display: table-cell;\"></div><div style=\"display: table-cell;\">nonselection_glyph&nbsp;=&nbsp;Rect(id='1184', ...),</div></div><div class=\"1188\" style=\"display: none;\"><div style=\"display: table-cell;\"></div><div style=\"display: table-cell;\">selection_glyph&nbsp;=&nbsp;'auto',</div></div><div class=\"1188\" style=\"display: none;\"><div style=\"display: table-cell;\"></div><div style=\"display: table-cell;\">subscribed_events&nbsp;=&nbsp;[],</div></div><div class=\"1188\" style=\"display: none;\"><div style=\"display: table-cell;\"></div><div style=\"display: table-cell;\">syncable&nbsp;=&nbsp;True,</div></div><div class=\"1188\" style=\"display: none;\"><div style=\"display: table-cell;\"></div><div style=\"display: table-cell;\">tags&nbsp;=&nbsp;[],</div></div><div class=\"1188\" style=\"display: none;\"><div style=\"display: table-cell;\"></div><div style=\"display: table-cell;\">view&nbsp;=&nbsp;CDSView(id='1187', ...),</div></div><div class=\"1188\" style=\"display: none;\"><div style=\"display: table-cell;\"></div><div style=\"display: table-cell;\">visible&nbsp;=&nbsp;True,</div></div><div class=\"1188\" style=\"display: none;\"><div style=\"display: table-cell;\"></div><div style=\"display: table-cell;\">x_range_name&nbsp;=&nbsp;'default',</div></div><div class=\"1188\" style=\"display: none;\"><div style=\"display: table-cell;\"></div><div style=\"display: table-cell;\">y_range_name&nbsp;=&nbsp;'default')</div></div></div>\n",
       "<script>\n",
       "(function() {\n",
       "  let expanded = false;\n",
       "  const ellipsis = document.getElementById(\"1189\");\n",
       "  ellipsis.addEventListener(\"click\", function() {\n",
       "    const rows = document.getElementsByClassName(\"1188\");\n",
       "    for (let i = 0; i < rows.length; i++) {\n",
       "      const el = rows[i];\n",
       "      el.style.display = expanded ? \"none\" : \"table-row\";\n",
       "    }\n",
       "    ellipsis.innerHTML = expanded ? \"&hellip;)\" : \"&lsaquo;&lsaquo;&lsaquo;\";\n",
       "    expanded = !expanded;\n",
       "  });\n",
       "})();\n",
       "</script>\n"
      ],
      "text/plain": [
       "GlyphRenderer(id='1186', ...)"
      ]
     },
     "execution_count": 5,
     "metadata": {},
     "output_type": "execute_result"
    },
    {
     "data": {
      "text/plain": [
       "'/Users/harshbandhey/Local/Cedars/Urbslab/STREAMLINE/DemoOutput/demo_experiment/hcc-data_example_custom/model_evaluation/feature_importance/FI_Rank_Heatmap.html'"
      ]
     },
     "execution_count": 5,
     "metadata": {},
     "output_type": "execute_result"
    }
   ],
   "source": [
    "if targetDataName: # User specified one analyzed dataset above (if more than one were analyzed)\n",
    "    for each in datasets:\n",
    "        if not each == targetDataName:\n",
    "            datasets.remove(each)\n",
    "print(\"Vizualized Datasets: \"+str(datasets))\n",
    "\n",
    "for each in datasets: \n",
    "    print(\"---------------------------------------\")\n",
    "    print(each)\n",
    "    print(\"---------------------------------------\")\n",
    "    full_path = experiment_path+'/'+each\n",
    "\n",
    "    series = list()\n",
    "    feats = None\n",
    "    for algorithm in algorithms:\n",
    "        filename = full_path+'/model_evaluation/feature_importance/'+abbrev[algorithm]+'_FI.csv'\n",
    "        df = pd.read_csv(filename)\n",
    "        if not feats:\n",
    "            feats = df.abs().mean().keys().to_list()\n",
    "            series.append(pd.Series(feats, name='feats'))\n",
    "        fi_avgrank = df.abs().mean().rank(ascending=False).values\n",
    "        series.append(pd.Series(fi_avgrank, name=algorithm.partition('_')[0]))\n",
    "\n",
    "    finaldf = pd.concat(series, axis=1).set_index('feats')\n",
    "    finaldf['MeanRank'] = finaldf.mean(axis=1)\n",
    "    finaldf.sort_values(by='MeanRank', inplace=True)\n",
    "    finaldf.columns.name = 'algos'\n",
    "    inputdf = pd.DataFrame(finaldf.stack(), columns=['ranked']).reset_index()\n",
    "\n",
    "\n",
    "    source = ColumnDataSource(inputdf)\n",
    "    mapper = LinearColorMapper(palette=Cividis256, low=inputdf.ranked.min(), high=inputdf.ranked.max())\n",
    "\n",
    "    tools=[\"wheel_zoom\", \"pan\", \"reset\"]\n",
    "    p = figure(width=900,\n",
    "                height=1600,\n",
    "                title=\"FI Heatmap (All Variables)\",\n",
    "                x_range=list(finaldf.columns),\n",
    "                y_range=list(reversed(finaldf.index)),\n",
    "                tools=tools,\n",
    "                toolbar_location='left',\n",
    "                x_axis_location=\"above\"\n",
    "                )\n",
    "    p.rect(x=\"algos\",\n",
    "            y=\"feats\",\n",
    "            width=1,\n",
    "            height=1,\n",
    "            source=source,\n",
    "            line_color=\"white\",\n",
    "            fill_color={\"field\":\"ranked\", \"transform\": mapper},\n",
    "            )\n",
    "    tooltips = [(\"algo\", \"@algos\"),\n",
    "                (\"feature\", \"@feats\"),\n",
    "                (\"rank\", \"@ranked\")]\n",
    "\n",
    "    hover = HoverTool(tooltips = tooltips)\n",
    "    p.add_tools(hover)\n",
    "    p.axis.axis_line_color = None\n",
    "    p.axis.major_tick_line_color = None\n",
    "    p.axis.major_label_text_font_size = \"14px\"\n",
    "    p.title.text_font_size = '24px'\n",
    "    p.axis.major_label_standoff = 0\n",
    "    p.xaxis.major_label_orientation = 1.0\n",
    "\n",
    "    output_file(full_path+'/model_evaluation/feature_importance/'+'FI_Rank_Heatmap.html')\n",
    "    save(p)\n",
    " "
   ]
  }
 ],
 "metadata": {
  "interpreter": {
   "hash": "1a12a98ae265c92e0b59419562a28d4a83daa07b99af1da9cec83ddf5b471690"
  },
  "kernelspec": {
   "display_name": "Python 3 (ipykernel)",
   "language": "python",
   "name": "python3"
  },
  "language_info": {
   "codemirror_mode": {
    "name": "ipython",
    "version": 3
   },
   "file_extension": ".py",
   "mimetype": "text/x-python",
   "name": "python",
   "nbconvert_exporter": "python",
   "pygments_lexer": "ipython3",
   "version": "3.9.13"
  }
 },
 "nbformat": 4,
 "nbformat_minor": 2
}
