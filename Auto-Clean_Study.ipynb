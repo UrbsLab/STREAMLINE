{
 "cells": [
  {
   "cell_type": "code",
   "execution_count": 1,
   "metadata": {},
   "outputs": [
    {
     "name": "stderr",
     "output_type": "stream",
     "text": [
      "/Users/gabrielketron/AutoTest/AutoTestEnv/lib/python3.10/site-packages/tqdm/auto.py:21: TqdmWarning: IProgress not found. Please update jupyter and ipywidgets. See https://ipywidgets.readthedocs.io/en/stable/user_install.html\n",
      "  from .autonotebook import tqdm as notebook_tqdm\n"
     ]
    },
    {
     "ename": "type",
     "evalue": "No module named 'digen'",
     "output_type": "error",
     "traceback": [
      "\u001b[0;31m---------------------------------------------------------------------------\u001b[0m",
      "\u001b[0;31mModuleNotFoundError\u001b[0m                       Traceback (most recent call last)",
      "Cell \u001b[0;32mIn[1], line 10\u001b[0m\n\u001b[1;32m      8\u001b[0m \u001b[39mfrom\u001b[39;00m \u001b[39mstreamline\u001b[39;00m\u001b[39m.\u001b[39;00m\u001b[39mrunners\u001b[39;00m\u001b[39m.\u001b[39;00m\u001b[39mauto_runner\u001b[39;00m \u001b[39mimport\u001b[39;00m AutoRunner\n\u001b[1;32m      9\u001b[0m \u001b[39mfrom\u001b[39;00m \u001b[39mstreamline\u001b[39;00m\u001b[39m.\u001b[39;00m\u001b[39mrunners\u001b[39;00m\u001b[39m.\u001b[39;00m\u001b[39mclean_optimize_runner\u001b[39;00m \u001b[39mimport\u001b[39;00m OptimizeClean\n\u001b[0;32m---> 10\u001b[0m \u001b[39mfrom\u001b[39;00m \u001b[39mdigen\u001b[39;00m \u001b[39mimport\u001b[39;00m Benchmark\n",
      "\u001b[0;31mModuleNotFoundError\u001b[0m: No module named 'digen'"
     ]
    }
   ],
   "source": [
    "import logging\n",
    "import os\n",
    "import shutil\n",
    "import dill as pickle\n",
    "import pandas as pd\n",
    "import matplotlib.pyplot as plt\n",
    "from sklearn.model_selection import train_test_split\n",
    "from streamline.runners.auto_runner import AutoRunner\n",
    "from streamline.runners.clean_optimize_runner import OptimizeClean\n",
    "import pandas as pd\n",
    "import numpy as np\n",
    "pd.set_option('display.max_rows', 10)\n",
    "import seaborn as sns\n",
    "import matplotlib.pyplot as plt\n",
    "%matplotlib inline\n",
    "from digen import Benchmark\n"
   ]
  },
  {
   "cell_type": "code",
   "execution_count": null,
   "metadata": {},
   "outputs": [
    {
     "name": "stdout",
     "output_type": "stream",
     "text": [
      "dict_keys(['digen8_4426', 'digen32_5191', 'digen39_5578', 'digen36_466', 'digen13_769', 'digen35_4426', 'digen1_6265', 'digen10_8322', 'digen23_5191', 'digen22_2433', 'digen24_2433', 'digen3_769', 'digen17_6949', 'digen26_7270', 'digen7_6949', 'digen16_5390', 'digen27_860', 'digen37_769', 'digen12_8322', 'digen6_466', 'digen25_2433', 'digen34_769', 'digen31_2433', 'digen33_769', 'digen38_4426', 'digen28_769', 'digen40_5390', 'digen2_6949', 'digen4_860', 'digen14_769', 'digen29_8322', 'digen21_6265', 'digen15_5311', 'digen19_7270', 'digen5_6949', 'digen11_7270', 'digen9_7270', 'digen20_5191', 'digen18_5578', 'digen30_4426'])\n",
      "{'X':             X0        X1        X2        X3        X4        X5        X6  \\\n",
      "0     1.764052  0.400157  0.978738  2.240893  1.867558 -0.977278  0.950088   \n",
      "1     0.144044  1.454274  0.761038  0.121675  0.443863  0.333674  1.494079   \n",
      "2    -2.552990  0.653619  0.864436 -0.742165  2.269755 -1.454366  0.045759   \n",
      "3     0.154947  0.378163 -0.887786 -1.980796 -0.347912  0.156349  1.230291   \n",
      "4    -1.048553 -1.420018 -1.706270  1.950775 -0.509652 -0.438074 -1.252795   \n",
      "...        ...       ...       ...       ...       ...       ...       ...   \n",
      "9995 -0.030453  1.082681 -0.530580  0.602367 -2.138291 -0.056632  1.166444   \n",
      "9996  2.520830 -0.124884  0.018068 -0.998623 -1.262734 -0.565107 -0.455238   \n",
      "9997 -0.545705  1.696766 -0.508186  0.003621 -1.018515  0.251562 -0.338182   \n",
      "9998 -0.367787 -0.568358 -0.721248  0.198280 -0.217422  0.914757  0.443757   \n",
      "9999  0.428571 -0.164999  0.864963 -0.647662  0.720058 -0.337715 -2.028548   \n",
      "\n",
      "            X7        X8        X9  \n",
      "0    -0.151357 -0.103219  0.410599  \n",
      "1    -0.205158  0.313068 -0.854096  \n",
      "2    -0.187184  1.532779  1.469359  \n",
      "3     1.202380 -0.387327 -0.302303  \n",
      "4     0.777490 -1.613898 -0.212740  \n",
      "...        ...       ...       ...  \n",
      "9995 -0.772096 -0.908988 -0.414217  \n",
      "9996  0.555727  0.994368 -0.286562  \n",
      "9997  1.014143 -0.582528  0.638790  \n",
      "9998 -0.306204 -0.949056 -0.448083  \n",
      "9999  0.726182 -1.167831 -1.285208  \n",
      "\n",
      "[10000 rows x 10 columns], 'y': array([0, 1, 1, ..., 1, 1, 0]), 'noise': 0.0, 'y_no_noise': array([0, 1, 1, ..., 1, 1, 0])}\n"
     ]
    }
   ],
   "source": [
    "with open(\"./data/DigenData/all_new_test_sets.pkl\",'rb') as f:\n",
    "    digens = pickle.load(f)\n",
    "\n",
    "print(digens.keys())\n",
    "\n",
    "digenkeys = list(digens.keys())\n",
    "\n",
    "benchmark=Benchmark()\n",
    "benchmodels = benchmark.get_models()\n",
    "#print(digenkeys)\n",
    "print(digens['digen8_4426'])\n",
    "digennoise = {}\n",
    "traincsv = {}\n",
    "testcsv = {}\n",
    "train_best_preformance = {}\n",
    "test_final_preformance ={}\n",
    "lossfxn = {}"
   ]
  },
  {
   "cell_type": "code",
   "execution_count": null,
   "metadata": {},
   "outputs": [
    {
     "ename": "NameError",
     "evalue": "name 'digenkeys' is not defined",
     "output_type": "error",
     "traceback": [
      "\u001b[0;31m---------------------------------------------------------------------------\u001b[0m",
      "\u001b[0;31mNameError\u001b[0m                                 Traceback (most recent call last)",
      "Cell \u001b[0;32mIn[1], line 1\u001b[0m\n\u001b[0;32m----> 1\u001b[0m \u001b[39mfor\u001b[39;00m i \u001b[39min\u001b[39;00m digenkeys:\n\u001b[1;32m      2\u001b[0m     \u001b[39mprint\u001b[39m(i) \n\u001b[1;32m      3\u001b[0m     data \u001b[39m=\u001b[39m pd\u001b[39m.\u001b[39mDataFrame(digen[i][\u001b[39m'\u001b[39m\u001b[39mX\u001b[39m\u001b[39m'\u001b[39m])\n",
      "\u001b[0;31mNameError\u001b[0m: name 'digenkeys' is not defined"
     ]
    }
   ],
   "source": [
    "for i in digenkeys:\n",
    "    print(i) \n",
    "    data = pd.DataFrame(digens[i]['X'])\n",
    "    yval = pd.DataFrame(digens[i]['y'])\n",
    "    yval.columns = ['y']\n",
    "    yval.rename(columns = {'0':'y'}, inplace = True)\n",
    "    noisy = pd.concat([data, yval], axis=1)\n",
    "    noisy.index.name = 'InstanceId'\n",
    "\n",
    "    ynonoise = pd.DataFrame(digens[i]['y_no_noise'])\n",
    "    ynonoise.columns = ['y']\n",
    "    ynonoise.rename(columns = {'0':'y'}, inplace = True)\n",
    "    no_noise = pd.concat([data, ynonoise], axis=1)\n",
    "    no_noise.index.name = 'InstanceId'\\\n",
    "    \n",
    "    outstring = './data/DigenStudy/No_Noise/' + i + '/' + i + 'no_missing.csv'\n",
    "    #tempstring = './data/testfolder/' + i + '.csv'\n",
    "    no_noise.to_csv(outstring)\n",
    "    #no_noise.to_csv(tempstring)\n",
    "    current_noise = digens[i]['noise']\n",
    "    digennoise[i] = current_noise\n",
    "\n",
    "    if current_noise != 0.0: \n",
    "        outstring = './data/DigenStudy/Noisy/' + i + '/' + i + 'no_missing.csv'\n",
    "        #tempstring = './data/testfolder/' + i + '.csv'\n",
    "        noisy.to_csv(outstring)\n",
    "        #noisy.to_csv(tempstring)\n",
    "    \n",
    "    ground_truth = benchmodels[i]\n",
    "    '''\n",
    "    X_train, X_test,y_train, y_test = train_test_split(data, yval,test_size=0.08, shuffle=True)\n",
    "\n",
    "    train_set = pd.concat([X_train, y_train], axis =1)\n",
    "    train_set.index.name = 'InstanceId'\n",
    "    tempstring = './data/testfolder/' + i +'_train.csv'\n",
    "    train_set.to_csv(tempstring)\n",
    "    cleanrun = OptimizeClean(dataset_name=[i], n_trials=100, data_path='./data/testfolder')\n",
    "    cleanrun.run()\n",
    "    optimal = cleanrun.param\n",
    "    current_auc = cleanrun.goal\n",
    "\n",
    "    tempstring = './data/testfolder/' + i +'_train.csv'\n",
    "    test_set = pd.concat([X_test, y_test], axis =1)\n",
    "    test_set.index.name = 'InstanceId'\n",
    "\n",
    "    try:\n",
    "        most_recent_run = AutoRunner(**optimal, dataset_names=[i],data_path='./data/testfolder',\n",
    "                                        gen_report=False, clean=False, class_label='target', \n",
    "                                        instance_label='InstanceID', ml_algorithms=[\"NB\", \"LR\", \"DT\", \"EN\", \"XGB\", \"LGB\", \"CGB\", \"SVM\",\"GB\", \"RF\"], \n",
    "                                        exclude=[\"GB\", \"RF\",\"ANN\",\"KNN\",\"GP\", 'eLCS', 'XCS', \"ExSTraCS\"]) # \"XGB\", \"LGB\", \"CGB\", \"SVM\",\"GB\", \"RF\"\n",
    "        output_csv = most_recent_run.run(run_para=False)\n",
    "        performance = pd.read_csv(output_csv)\n",
    "        summary_chart = performance\n",
    "        goal = performance[\"ROC AUC\"].max()\n",
    "        best_model = performance.loc[performance[\"ROC AUC\"].idxmax()][0]\n",
    "        png_out = output_csv.removesuffix('Summary_performance_mean.csv')\n",
    "        png_out = png_out + 'Summary_ROC.png'\n",
    "        final_model_comparison = plt.show(png_out)\n",
    "    except:\n",
    "        print('EXCEPTION')\n",
    "        \n",
    "    print(current_auc-goal)\n",
    "        '''\n",
    "\n",
    "\n",
    "    \n",
    "\n"
   ]
  },
  {
   "cell_type": "code",
   "execution_count": null,
   "metadata": {},
   "outputs": [
    {
     "ename": "type",
     "evalue": "'float' object is not subscriptable",
     "output_type": "error",
     "traceback": [
      "\u001b[0;31m---------------------------------------------------------------------------\u001b[0m",
      "\u001b[0;31mTypeError\u001b[0m                                 Traceback (most recent call last)",
      "Cell \u001b[0;32mIn[20], line 1\u001b[0m\n\u001b[0;32m----> 1\u001b[0m Test\u001b[39m=\u001b[39m pd\u001b[39m.\u001b[39mDataFrame(digennoise[\u001b[39m'\u001b[39;49m\u001b[39mdigen8_4426\u001b[39;49m\u001b[39m'\u001b[39;49m][\u001b[39m'\u001b[39;49m\u001b[39mX\u001b[39;49m\u001b[39m'\u001b[39;49m])\n\u001b[1;32m      2\u001b[0m yval \u001b[39m=\u001b[39m pd\u001b[39m.\u001b[39mDataFrame(digennoise[\u001b[39m'\u001b[39m\u001b[39mdigen8_4426\u001b[39m\u001b[39m'\u001b[39m][\u001b[39m'\u001b[39m\u001b[39my\u001b[39m\u001b[39m'\u001b[39m])\n\u001b[1;32m      3\u001b[0m current_noise \u001b[39m=\u001b[39m digennoise[\u001b[39m'\u001b[39m\u001b[39mdigen8_4426\u001b[39m\u001b[39m'\u001b[39m][\u001b[39m'\u001b[39m\u001b[39mnoise\u001b[39m\u001b[39m'\u001b[39m]\n",
      "\u001b[0;31mTypeError\u001b[0m: 'float' object is not subscriptable"
     ]
    }
   ],
   "source": [
    "#Noisy checks:\n",
    "\n"
   ]
  }
 ],
 "metadata": {
  "kernelspec": {
   "display_name": "AutoTestEnv",
   "language": "python",
   "name": "python3"
  },
  "language_info": {
   "codemirror_mode": {
    "name": "ipython",
    "version": 3
   },
   "file_extension": ".py",
   "mimetype": "text/x-python",
   "name": "python",
   "nbconvert_exporter": "python",
   "pygments_lexer": "ipython3",
   "version": "3.10.5"
  },
  "orig_nbformat": 4
 },
 "nbformat": 4,
 "nbformat_minor": 2
}
