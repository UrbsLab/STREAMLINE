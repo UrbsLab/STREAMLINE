{
 "cells": [
  {
   "cell_type": "code",
   "execution_count": 17,
   "metadata": {},
   "outputs": [],
   "source": [
    "import logging\n",
    "import os\n",
    "import shutil\n",
    "import dill as pickle\n",
    "import pandas as pd\n",
    "import matplotlib.pyplot as plt\n",
    "from streamline.runners.auto_runner import AutoRunner\n",
    "from streamline.runners.clean_optimize_runner import OptimizeClean\n"
   ]
  },
  {
   "cell_type": "code",
   "execution_count": 18,
   "metadata": {},
   "outputs": [],
   "source": [
    "with open(\"./data/DigenData/all_new_test_sets.pkl\",'rb') as f:\n",
    "    digen = pickle.load(f)\n",
    "\n",
    "#print(digen.keys())\n",
    "\n",
    "digenkeys = list(digen.keys())\n",
    "\n",
    "#print(digenkeys)\n",
    "#print(digen['digen8_4426'])\n",
    "digennoise = {}"
   ]
  },
  {
   "cell_type": "code",
   "execution_count": 19,
   "metadata": {},
   "outputs": [],
   "source": [
    "for i in digenkeys: \n",
    "    data = pd.DataFrame(digen[i]['X'])\n",
    "    yval = pd.DataFrame(digen[i]['y'])\n",
    "    current_noise = digen[i]['noise']\n",
    "    yval.columns = ['y']\n",
    "    yval.rename(columns = {'0':'y'}, inplace = True)\n",
    "    out = pd.concat([Test, yval], axis=1)\n",
    "    out.index.name = 'InstanceId'\n",
    "    digennoise[i] = current_noise\n",
    "    if current_noise == 0.0: \n",
    "        outstring = './data/DigenStudy/No_Noise/' + i + '.csv'\n",
    "        out.to_csv(outstring)\n",
    "    else:\n",
    "        outstring = './data/DigenStudy/Noisy/' + i + '.csv'\n",
    "        out.to_csv(outstring)\n",
    "\n"
   ]
  },
  {
   "cell_type": "code",
   "execution_count": 20,
   "metadata": {},
   "outputs": [
    {
     "ename": "type",
     "evalue": "'float' object is not subscriptable",
     "output_type": "error",
     "traceback": [
      "\u001b[0;31m---------------------------------------------------------------------------\u001b[0m",
      "\u001b[0;31mTypeError\u001b[0m                                 Traceback (most recent call last)",
      "Cell \u001b[0;32mIn[20], line 1\u001b[0m\n\u001b[0;32m----> 1\u001b[0m Test\u001b[39m=\u001b[39m pd\u001b[39m.\u001b[39mDataFrame(digennoise[\u001b[39m'\u001b[39;49m\u001b[39mdigen8_4426\u001b[39;49m\u001b[39m'\u001b[39;49m][\u001b[39m'\u001b[39;49m\u001b[39mX\u001b[39;49m\u001b[39m'\u001b[39;49m])\n\u001b[1;32m      2\u001b[0m yval \u001b[39m=\u001b[39m pd\u001b[39m.\u001b[39mDataFrame(digennoise[\u001b[39m'\u001b[39m\u001b[39mdigen8_4426\u001b[39m\u001b[39m'\u001b[39m][\u001b[39m'\u001b[39m\u001b[39my\u001b[39m\u001b[39m'\u001b[39m])\n\u001b[1;32m      3\u001b[0m current_noise \u001b[39m=\u001b[39m digennoise[\u001b[39m'\u001b[39m\u001b[39mdigen8_4426\u001b[39m\u001b[39m'\u001b[39m][\u001b[39m'\u001b[39m\u001b[39mnoise\u001b[39m\u001b[39m'\u001b[39m]\n",
      "\u001b[0;31mTypeError\u001b[0m: 'float' object is not subscriptable"
     ]
    }
   ],
   "source": [
    "#Noisy checks:\n",
    "\n"
   ]
  }
 ],
 "metadata": {
  "kernelspec": {
   "display_name": "AutoTestEnv",
   "language": "python",
   "name": "python3"
  },
  "language_info": {
   "codemirror_mode": {
    "name": "ipython",
    "version": 3
   },
   "file_extension": ".py",
   "mimetype": "text/x-python",
   "name": "python",
   "nbconvert_exporter": "python",
   "pygments_lexer": "ipython3",
   "version": "3.10.5"
  },
  "orig_nbformat": 4
 },
 "nbformat": 4,
 "nbformat_minor": 2
}
