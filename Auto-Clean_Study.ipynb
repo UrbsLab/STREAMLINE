{
 "cells": [
  {
   "cell_type": "code",
   "execution_count": 17,
   "metadata": {},
   "outputs": [],
   "source": [
    "import logging\n",
    "import os\n",
    "import shutil\n",
    "import dill as pickle\n",
    "import pandas as pd\n",
    "import matplotlib.pyplot as plt\n",
    "from sklearn.model_selection import train_test_split\n",
    "from streamline.runners.auto_runner import AutoRunner\n",
    "from streamline.runners.clean_optimize_runner import OptimizeClean\n"
   ]
  },
  {
   "cell_type": "code",
   "execution_count": 18,
   "metadata": {},
   "outputs": [],
   "source": [
    "with open(\"./data/DigenData/all_new_test_sets.pkl\",'rb') as f:\n",
    "    digen = pickle.load(f)\n",
    "\n",
    "#print(digen.keys())\n",
    "\n",
    "digenkeys = list(digen.keys())\n",
    "\n",
    "#print(digenkeys)\n",
    "#print(digen['digen8_4426'])\n",
    "digennoise = {}"
   ]
  },
  {
   "cell_type": "code",
   "execution_count": 19,
   "metadata": {},
   "outputs": [],
   "source": [
    "for i in digenkeys:\n",
    "    print(i) \n",
    "    data = pd.DataFrame(digen[i]['X'])\n",
    "    yval = pd.DataFrame(digen[i]['y'])\n",
    "    current_noise = digen[i]['noise']\n",
    "    yval.columns = ['y']\n",
    "    yval.rename(columns = {'0':'y'}, inplace = True)\n",
    "    out = pd.concat([Test, yval], axis=1)\n",
    "    out.index.name = 'InstanceId'\n",
    "    digennoise[i] = current_noise\n",
    "    if current_noise == 0.0: \n",
    "        outstring = './data/DigenStudy/No_Noise/' + i + '.csv'\n",
    "        tempstring = './data/testfolder/' + i + '.csv'\n",
    "        out.to_csv(outstring)\n",
    "        out.to_csv(tempstring)\n",
    "    else:\n",
    "        outstring = './data/DigenStudy/Noisy/' + i + '.csv'\n",
    "        tempstring = './data/testfolder/' + i + '.csv'\n",
    "        out.to_csv(outstring)\n",
    "        out.to_csv(tempstring)\n",
    "    \n",
    "    X_train, X_test,y_train, y_test = train_test_split(data, yval,test_size=0.08, shuffle=True)\n",
    "\n",
    "    train_set = pd.concat([X_train, y_train], axis =1)\n",
    "    train_set.index.name = 'InstanceId'\n",
    "    tempstring = './data/testfolder/' + i +'_train.csv'\n",
    "    train_set.to_csv(tempstring)\n",
    "    cleanrun = OptimizeClean(dataset_name=[i], n_trials=100, data_path='./data/testfolder')\n",
    "    cleanrun.run()\n",
    "    optimal = cleanrun.params\n",
    "    current_auc = cleanrun.goal\n",
    "\n",
    "    tempstring = './data/testfolder/' + i +'_train.csv'\n",
    "    test_set = pd.concat([X_test, y_test], axis =1)\n",
    "    test_set.index.name = 'InstanceId'\n",
    "\n",
    "    try:\n",
    "        most_recent_run = AutoRunner(**optimal, dataset_names=[i],data_path='./data/testfolder',\n",
    "                                        gen_report=False, clean=False, class_label='target', \n",
    "                                        instance_label='InstanceID', ml_algorithms=[\"NB\", \"LR\", \"DT\", \"EN\"], \n",
    "                                        exclude=[\"GB\", \"RF\",\"ANN\",\"KNN\",\"GP\", 'eLCS', 'XCS', \"ExSTraCS\"]) # \"XGB\", \"LGB\", \"CGB\", \"SVM\",\"GB\", \"RF\"\n",
    "        output_csv = most_recent_run.run(run_para=False)\n",
    "        performance = pd.read_csv(output_csv)\n",
    "        summary_chart = performance\n",
    "        goal = performance[\"ROC AUC\"].max()\n",
    "        best_model = performance.loc[performance[\"ROC AUC\"].idxmax()][0]\n",
    "        png_out = output_csv.removesuffix('Summary_performance_mean.csv')\n",
    "        png_out = png_out + 'Summary_ROC.png'\n",
    "        final_model_comparison = plt.show(png_out)\n",
    "    except:\n",
    "        print('EXCEPTION')\n",
    "        \n",
    "    print(current_auc-goal)\n",
    "        \n",
    "\n",
    "\n",
    "    \n",
    "\n"
   ]
  },
  {
   "cell_type": "code",
   "execution_count": 20,
   "metadata": {},
   "outputs": [
    {
     "ename": "type",
     "evalue": "'float' object is not subscriptable",
     "output_type": "error",
     "traceback": [
      "\u001b[0;31m---------------------------------------------------------------------------\u001b[0m",
      "\u001b[0;31mTypeError\u001b[0m                                 Traceback (most recent call last)",
      "Cell \u001b[0;32mIn[20], line 1\u001b[0m\n\u001b[0;32m----> 1\u001b[0m Test\u001b[39m=\u001b[39m pd\u001b[39m.\u001b[39mDataFrame(digennoise[\u001b[39m'\u001b[39;49m\u001b[39mdigen8_4426\u001b[39;49m\u001b[39m'\u001b[39;49m][\u001b[39m'\u001b[39;49m\u001b[39mX\u001b[39;49m\u001b[39m'\u001b[39;49m])\n\u001b[1;32m      2\u001b[0m yval \u001b[39m=\u001b[39m pd\u001b[39m.\u001b[39mDataFrame(digennoise[\u001b[39m'\u001b[39m\u001b[39mdigen8_4426\u001b[39m\u001b[39m'\u001b[39m][\u001b[39m'\u001b[39m\u001b[39my\u001b[39m\u001b[39m'\u001b[39m])\n\u001b[1;32m      3\u001b[0m current_noise \u001b[39m=\u001b[39m digennoise[\u001b[39m'\u001b[39m\u001b[39mdigen8_4426\u001b[39m\u001b[39m'\u001b[39m][\u001b[39m'\u001b[39m\u001b[39mnoise\u001b[39m\u001b[39m'\u001b[39m]\n",
      "\u001b[0;31mTypeError\u001b[0m: 'float' object is not subscriptable"
     ]
    }
   ],
   "source": [
    "#Noisy checks:\n",
    "\n"
   ]
  }
 ],
 "metadata": {
  "kernelspec": {
   "display_name": "AutoTestEnv",
   "language": "python",
   "name": "python3"
  },
  "language_info": {
   "codemirror_mode": {
    "name": "ipython",
    "version": 3
   },
   "file_extension": ".py",
   "mimetype": "text/x-python",
   "name": "python",
   "nbconvert_exporter": "python",
   "pygments_lexer": "ipython3",
   "version": "3.10.5"
  },
  "orig_nbformat": 4
 },
 "nbformat": 4,
 "nbformat_minor": 2
}
